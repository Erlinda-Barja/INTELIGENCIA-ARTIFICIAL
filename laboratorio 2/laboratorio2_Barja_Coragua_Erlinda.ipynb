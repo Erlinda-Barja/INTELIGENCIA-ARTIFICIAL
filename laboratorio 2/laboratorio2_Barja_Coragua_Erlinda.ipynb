{
  "nbformat": 4,
  "nbformat_minor": 0,
  "metadata": {
    "colab": {
      "provenance": []
    },
    "kernelspec": {
      "name": "python3",
      "display_name": "Python 3"
    },
    "language_info": {
      "name": "python"
    }
  },
  "cells": [
    {
      "cell_type": "code",
      "execution_count": 1,
      "metadata": {
        "id": "ZIChCfy8C0bL"
      },
      "outputs": [],
      "source": [
        "#Nombre: Barja Coragua Erlinda\n",
        "#carrera: Ing.de Sistemas\n",
        "# REPOSITORIO https://github.com/Erlinda-Barja/INTELIGENCIA-ARTIFICIAL/tree/main/laboratorio%202\n",
        "import os\n",
        "import numpy as np\n",
        "from matplotlib import pyplot\n",
        "from mpl_toolkits.mplot3d import Axes3D  #\n",
        "%matplotlib inline\n",
        "import pandas as pd\n",
        "from sklearn.preprocessing import LabelEncoder\n",
        "from datetime import datetime\n",
        "from sklearn.model_selection import train_test_split"
      ]
    },
    {
      "cell_type": "code",
      "source": [],
      "metadata": {
        "id": "C-a8bc4d5YXT"
      },
      "execution_count": null,
      "outputs": []
    },
    {
      "cell_type": "markdown",
      "source": [
        "**REGRECION LINEAL MULTIVARIABLE**\n",
        "\n",
        "se uso la libreria sklearn.model_selection para la division del data set para selecionar 100 datos para las prediciones tambien se convirtio  los datos que estaban en tipo objeto a enteros   y haci  logrando tener un dataset listo pa entrenarlo y predecir los precios  con la regecion lineal multivariable usando  el desenso por el gradiante y tambien se grafico  "
      ],
      "metadata": {
        "id": "26mSpXPvkCiM"
      }
    },
    {
      "cell_type": "code",
      "source": [
        "#Carga de dataset\n",
        "data = pd.read_csv('/content/sample_data/housing.csv')\n",
        "print(data)"
      ],
      "metadata": {
        "colab": {
          "base_uri": "https://localhost:8080/"
        },
        "id": "FFGXv0K2Dhc2",
        "outputId": "bedc0cd1-e702-4154-bb9d-79ca4330fe64"
      },
      "execution_count": 2,
      "outputs": [
        {
          "output_type": "stream",
          "name": "stdout",
          "text": [
            "       longitude  latitude  housing_median_age  total_rooms  total_bedrooms  \\\n",
            "0        -122.23     37.88                41.0        880.0           129.0   \n",
            "1        -122.22     37.86                21.0       7099.0          1106.0   \n",
            "2        -122.24     37.85                52.0       1467.0           190.0   \n",
            "3        -122.25     37.85                52.0       1274.0           235.0   \n",
            "4        -122.25     37.85                52.0       1627.0           280.0   \n",
            "...          ...       ...                 ...          ...             ...   \n",
            "20635    -121.09     39.48                25.0       1665.0           374.0   \n",
            "20636    -121.21     39.49                18.0        697.0           150.0   \n",
            "20637    -121.22     39.43                17.0       2254.0           485.0   \n",
            "20638    -121.32     39.43                18.0       1860.0           409.0   \n",
            "20639    -121.24     39.37                16.0       2785.0           616.0   \n",
            "\n",
            "       population  households  median_income  median_house_value  \\\n",
            "0           322.0       126.0         8.3252            452600.0   \n",
            "1          2401.0      1138.0         8.3014            358500.0   \n",
            "2           496.0       177.0         7.2574            352100.0   \n",
            "3           558.0       219.0         5.6431            341300.0   \n",
            "4           565.0       259.0         3.8462            342200.0   \n",
            "...           ...         ...            ...                 ...   \n",
            "20635       845.0       330.0         1.5603             78100.0   \n",
            "20636       356.0       114.0         2.5568             77100.0   \n",
            "20637      1007.0       433.0         1.7000             92300.0   \n",
            "20638       741.0       349.0         1.8672             84700.0   \n",
            "20639      1387.0       530.0         2.3886             89400.0   \n",
            "\n",
            "      ocean_proximity  \n",
            "0            NEAR BAY  \n",
            "1            NEAR BAY  \n",
            "2            NEAR BAY  \n",
            "3            NEAR BAY  \n",
            "4            NEAR BAY  \n",
            "...               ...  \n",
            "20635          INLAND  \n",
            "20636          INLAND  \n",
            "20637          INLAND  \n",
            "20638          INLAND  \n",
            "20639          INLAND  \n",
            "\n",
            "[20640 rows x 10 columns]\n"
          ]
        }
      ]
    },
    {
      "cell_type": "code",
      "source": [
        "data.info()"
      ],
      "metadata": {
        "colab": {
          "base_uri": "https://localhost:8080/"
        },
        "id": "BEm1V_0NDyQ-",
        "outputId": "a89bdfcc-391e-472e-95f6-dc2268c49e54"
      },
      "execution_count": 3,
      "outputs": [
        {
          "output_type": "stream",
          "name": "stdout",
          "text": [
            "<class 'pandas.core.frame.DataFrame'>\n",
            "RangeIndex: 20640 entries, 0 to 20639\n",
            "Data columns (total 10 columns):\n",
            " #   Column              Non-Null Count  Dtype  \n",
            "---  ------              --------------  -----  \n",
            " 0   longitude           20640 non-null  float64\n",
            " 1   latitude            20640 non-null  float64\n",
            " 2   housing_median_age  20640 non-null  float64\n",
            " 3   total_rooms         20640 non-null  float64\n",
            " 4   total_bedrooms      20433 non-null  float64\n",
            " 5   population          20640 non-null  float64\n",
            " 6   households          20640 non-null  float64\n",
            " 7   median_income       20640 non-null  float64\n",
            " 8   median_house_value  20640 non-null  float64\n",
            " 9   ocean_proximity     20640 non-null  object \n",
            "dtypes: float64(9), object(1)\n",
            "memory usage: 1.6+ MB\n"
          ]
        }
      ]
    },
    {
      "cell_type": "code",
      "source": [
        "#variables categoricas\n",
        "columnas_categoricas = data.select_dtypes(include=['object']).columns\n",
        "#Procesamiento de frases o palabras\n",
        "for columna in columnas_categoricas:\n",
        "  le = LabelEncoder()\n",
        "  data[columna] = le.fit_transform(data[columna])\n",
        "#resultado\n",
        "print(data)"
      ],
      "metadata": {
        "colab": {
          "base_uri": "https://localhost:8080/"
        },
        "id": "83aMIFlkD1Pb",
        "outputId": "a0192c92-697a-4807-cb10-cc9c460746e8"
      },
      "execution_count": 4,
      "outputs": [
        {
          "output_type": "stream",
          "name": "stdout",
          "text": [
            "       longitude  latitude  housing_median_age  total_rooms  total_bedrooms  \\\n",
            "0        -122.23     37.88                41.0        880.0           129.0   \n",
            "1        -122.22     37.86                21.0       7099.0          1106.0   \n",
            "2        -122.24     37.85                52.0       1467.0           190.0   \n",
            "3        -122.25     37.85                52.0       1274.0           235.0   \n",
            "4        -122.25     37.85                52.0       1627.0           280.0   \n",
            "...          ...       ...                 ...          ...             ...   \n",
            "20635    -121.09     39.48                25.0       1665.0           374.0   \n",
            "20636    -121.21     39.49                18.0        697.0           150.0   \n",
            "20637    -121.22     39.43                17.0       2254.0           485.0   \n",
            "20638    -121.32     39.43                18.0       1860.0           409.0   \n",
            "20639    -121.24     39.37                16.0       2785.0           616.0   \n",
            "\n",
            "       population  households  median_income  median_house_value  \\\n",
            "0           322.0       126.0         8.3252            452600.0   \n",
            "1          2401.0      1138.0         8.3014            358500.0   \n",
            "2           496.0       177.0         7.2574            352100.0   \n",
            "3           558.0       219.0         5.6431            341300.0   \n",
            "4           565.0       259.0         3.8462            342200.0   \n",
            "...           ...         ...            ...                 ...   \n",
            "20635       845.0       330.0         1.5603             78100.0   \n",
            "20636       356.0       114.0         2.5568             77100.0   \n",
            "20637      1007.0       433.0         1.7000             92300.0   \n",
            "20638       741.0       349.0         1.8672             84700.0   \n",
            "20639      1387.0       530.0         2.3886             89400.0   \n",
            "\n",
            "       ocean_proximity  \n",
            "0                    3  \n",
            "1                    3  \n",
            "2                    3  \n",
            "3                    3  \n",
            "4                    3  \n",
            "...                ...  \n",
            "20635                1  \n",
            "20636                1  \n",
            "20637                1  \n",
            "20638                1  \n",
            "20639                1  \n",
            "\n",
            "[20640 rows x 10 columns]\n"
          ]
        }
      ]
    },
    {
      "cell_type": "code",
      "source": [
        "data.info()"
      ],
      "metadata": {
        "colab": {
          "base_uri": "https://localhost:8080/"
        },
        "id": "bCWg-FEqEB-z",
        "outputId": "465f1a49-1eb1-433b-ecca-d1e8e8c0028a"
      },
      "execution_count": 5,
      "outputs": [
        {
          "output_type": "stream",
          "name": "stdout",
          "text": [
            "<class 'pandas.core.frame.DataFrame'>\n",
            "RangeIndex: 20640 entries, 0 to 20639\n",
            "Data columns (total 10 columns):\n",
            " #   Column              Non-Null Count  Dtype  \n",
            "---  ------              --------------  -----  \n",
            " 0   longitude           20640 non-null  float64\n",
            " 1   latitude            20640 non-null  float64\n",
            " 2   housing_median_age  20640 non-null  float64\n",
            " 3   total_rooms         20640 non-null  float64\n",
            " 4   total_bedrooms      20433 non-null  float64\n",
            " 5   population          20640 non-null  float64\n",
            " 6   households          20640 non-null  float64\n",
            " 7   median_income       20640 non-null  float64\n",
            " 8   median_house_value  20640 non-null  float64\n",
            " 9   ocean_proximity     20640 non-null  int64  \n",
            "dtypes: float64(9), int64(1)\n",
            "memory usage: 1.6 MB\n"
          ]
        }
      ]
    },
    {
      "cell_type": "code",
      "source": [
        "#llenar datos vacios\n",
        "columnas_especificas = ['total_bedrooms']\n",
        "media_columnas = data[columnas_especificas].mean()\n",
        "data[columnas_especificas] = data[columnas_especificas].fillna(media_columnas)\n",
        "data.info()"
      ],
      "metadata": {
        "colab": {
          "base_uri": "https://localhost:8080/"
        },
        "id": "d9PIlXsPEGNQ",
        "outputId": "1b6dd8bb-2b66-4a3d-b8d5-137b74012591"
      },
      "execution_count": 6,
      "outputs": [
        {
          "output_type": "stream",
          "name": "stdout",
          "text": [
            "<class 'pandas.core.frame.DataFrame'>\n",
            "RangeIndex: 20640 entries, 0 to 20639\n",
            "Data columns (total 10 columns):\n",
            " #   Column              Non-Null Count  Dtype  \n",
            "---  ------              --------------  -----  \n",
            " 0   longitude           20640 non-null  float64\n",
            " 1   latitude            20640 non-null  float64\n",
            " 2   housing_median_age  20640 non-null  float64\n",
            " 3   total_rooms         20640 non-null  float64\n",
            " 4   total_bedrooms      20640 non-null  float64\n",
            " 5   population          20640 non-null  float64\n",
            " 6   households          20640 non-null  float64\n",
            " 7   median_income       20640 non-null  float64\n",
            " 8   median_house_value  20640 non-null  float64\n",
            " 9   ocean_proximity     20640 non-null  int64  \n",
            "dtypes: float64(9), int64(1)\n",
            "memory usage: 1.6 MB\n"
          ]
        }
      ]
    },
    {
      "cell_type": "code",
      "source": [
        "\n",
        "X = data.iloc[:, :9]\n",
        "y = data.iloc[:, 8]\n",
        "m = y.size\n",
        "for i in range(10):\n",
        "    for j in range(X.shape[1]):\n",
        "        print('{:10.2f}'.format(X.iloc[i, j]), end=' ')\n",
        "    print('{:10.2f}'.format(y.iloc[i]))"
      ],
      "metadata": {
        "colab": {
          "base_uri": "https://localhost:8080/"
        },
        "id": "nDd1SRwoELvs",
        "outputId": "bba1bb6f-0ff4-4f80-85b7-4a00eb342cce"
      },
      "execution_count": 7,
      "outputs": [
        {
          "output_type": "stream",
          "name": "stdout",
          "text": [
            "   -122.23      37.88      41.00     880.00     129.00     322.00     126.00       8.33  452600.00  452600.00\n",
            "   -122.22      37.86      21.00    7099.00    1106.00    2401.00    1138.00       8.30  358500.00  358500.00\n",
            "   -122.24      37.85      52.00    1467.00     190.00     496.00     177.00       7.26  352100.00  352100.00\n",
            "   -122.25      37.85      52.00    1274.00     235.00     558.00     219.00       5.64  341300.00  341300.00\n",
            "   -122.25      37.85      52.00    1627.00     280.00     565.00     259.00       3.85  342200.00  342200.00\n",
            "   -122.25      37.85      52.00     919.00     213.00     413.00     193.00       4.04  269700.00  269700.00\n",
            "   -122.25      37.84      52.00    2535.00     489.00    1094.00     514.00       3.66  299200.00  299200.00\n",
            "   -122.25      37.84      52.00    3104.00     687.00    1157.00     647.00       3.12  241400.00  241400.00\n",
            "   -122.26      37.84      42.00    2555.00     665.00    1206.00     595.00       2.08  226700.00  226700.00\n",
            "   -122.25      37.84      52.00    3549.00     707.00    1551.00     714.00       3.69  261100.00  261100.00\n"
          ]
        }
      ]
    },
    {
      "cell_type": "code",
      "source": [
        "display(data)\n"
      ],
      "metadata": {
        "colab": {
          "base_uri": "https://localhost:8080/",
          "height": 424
        },
        "id": "Yd_Jrv1kHFR_",
        "outputId": "9c9253b5-38f6-42cc-b3f3-b6144f98a1ee"
      },
      "execution_count": 8,
      "outputs": [
        {
          "output_type": "display_data",
          "data": {
            "text/plain": [
              "       longitude  latitude  housing_median_age  total_rooms  total_bedrooms  \\\n",
              "0        -122.23     37.88                41.0        880.0           129.0   \n",
              "1        -122.22     37.86                21.0       7099.0          1106.0   \n",
              "2        -122.24     37.85                52.0       1467.0           190.0   \n",
              "3        -122.25     37.85                52.0       1274.0           235.0   \n",
              "4        -122.25     37.85                52.0       1627.0           280.0   \n",
              "...          ...       ...                 ...          ...             ...   \n",
              "20635    -121.09     39.48                25.0       1665.0           374.0   \n",
              "20636    -121.21     39.49                18.0        697.0           150.0   \n",
              "20637    -121.22     39.43                17.0       2254.0           485.0   \n",
              "20638    -121.32     39.43                18.0       1860.0           409.0   \n",
              "20639    -121.24     39.37                16.0       2785.0           616.0   \n",
              "\n",
              "       population  households  median_income  median_house_value  \\\n",
              "0           322.0       126.0         8.3252            452600.0   \n",
              "1          2401.0      1138.0         8.3014            358500.0   \n",
              "2           496.0       177.0         7.2574            352100.0   \n",
              "3           558.0       219.0         5.6431            341300.0   \n",
              "4           565.0       259.0         3.8462            342200.0   \n",
              "...           ...         ...            ...                 ...   \n",
              "20635       845.0       330.0         1.5603             78100.0   \n",
              "20636       356.0       114.0         2.5568             77100.0   \n",
              "20637      1007.0       433.0         1.7000             92300.0   \n",
              "20638       741.0       349.0         1.8672             84700.0   \n",
              "20639      1387.0       530.0         2.3886             89400.0   \n",
              "\n",
              "       ocean_proximity  \n",
              "0                    3  \n",
              "1                    3  \n",
              "2                    3  \n",
              "3                    3  \n",
              "4                    3  \n",
              "...                ...  \n",
              "20635                1  \n",
              "20636                1  \n",
              "20637                1  \n",
              "20638                1  \n",
              "20639                1  \n",
              "\n",
              "[20640 rows x 10 columns]"
            ],
            "text/html": [
              "\n",
              "  <div id=\"df-148b73b2-0f97-4635-ba0c-3e5826e0fe07\" class=\"colab-df-container\">\n",
              "    <div>\n",
              "<style scoped>\n",
              "    .dataframe tbody tr th:only-of-type {\n",
              "        vertical-align: middle;\n",
              "    }\n",
              "\n",
              "    .dataframe tbody tr th {\n",
              "        vertical-align: top;\n",
              "    }\n",
              "\n",
              "    .dataframe thead th {\n",
              "        text-align: right;\n",
              "    }\n",
              "</style>\n",
              "<table border=\"1\" class=\"dataframe\">\n",
              "  <thead>\n",
              "    <tr style=\"text-align: right;\">\n",
              "      <th></th>\n",
              "      <th>longitude</th>\n",
              "      <th>latitude</th>\n",
              "      <th>housing_median_age</th>\n",
              "      <th>total_rooms</th>\n",
              "      <th>total_bedrooms</th>\n",
              "      <th>population</th>\n",
              "      <th>households</th>\n",
              "      <th>median_income</th>\n",
              "      <th>median_house_value</th>\n",
              "      <th>ocean_proximity</th>\n",
              "    </tr>\n",
              "  </thead>\n",
              "  <tbody>\n",
              "    <tr>\n",
              "      <th>0</th>\n",
              "      <td>-122.23</td>\n",
              "      <td>37.88</td>\n",
              "      <td>41.0</td>\n",
              "      <td>880.0</td>\n",
              "      <td>129.0</td>\n",
              "      <td>322.0</td>\n",
              "      <td>126.0</td>\n",
              "      <td>8.3252</td>\n",
              "      <td>452600.0</td>\n",
              "      <td>3</td>\n",
              "    </tr>\n",
              "    <tr>\n",
              "      <th>1</th>\n",
              "      <td>-122.22</td>\n",
              "      <td>37.86</td>\n",
              "      <td>21.0</td>\n",
              "      <td>7099.0</td>\n",
              "      <td>1106.0</td>\n",
              "      <td>2401.0</td>\n",
              "      <td>1138.0</td>\n",
              "      <td>8.3014</td>\n",
              "      <td>358500.0</td>\n",
              "      <td>3</td>\n",
              "    </tr>\n",
              "    <tr>\n",
              "      <th>2</th>\n",
              "      <td>-122.24</td>\n",
              "      <td>37.85</td>\n",
              "      <td>52.0</td>\n",
              "      <td>1467.0</td>\n",
              "      <td>190.0</td>\n",
              "      <td>496.0</td>\n",
              "      <td>177.0</td>\n",
              "      <td>7.2574</td>\n",
              "      <td>352100.0</td>\n",
              "      <td>3</td>\n",
              "    </tr>\n",
              "    <tr>\n",
              "      <th>3</th>\n",
              "      <td>-122.25</td>\n",
              "      <td>37.85</td>\n",
              "      <td>52.0</td>\n",
              "      <td>1274.0</td>\n",
              "      <td>235.0</td>\n",
              "      <td>558.0</td>\n",
              "      <td>219.0</td>\n",
              "      <td>5.6431</td>\n",
              "      <td>341300.0</td>\n",
              "      <td>3</td>\n",
              "    </tr>\n",
              "    <tr>\n",
              "      <th>4</th>\n",
              "      <td>-122.25</td>\n",
              "      <td>37.85</td>\n",
              "      <td>52.0</td>\n",
              "      <td>1627.0</td>\n",
              "      <td>280.0</td>\n",
              "      <td>565.0</td>\n",
              "      <td>259.0</td>\n",
              "      <td>3.8462</td>\n",
              "      <td>342200.0</td>\n",
              "      <td>3</td>\n",
              "    </tr>\n",
              "    <tr>\n",
              "      <th>...</th>\n",
              "      <td>...</td>\n",
              "      <td>...</td>\n",
              "      <td>...</td>\n",
              "      <td>...</td>\n",
              "      <td>...</td>\n",
              "      <td>...</td>\n",
              "      <td>...</td>\n",
              "      <td>...</td>\n",
              "      <td>...</td>\n",
              "      <td>...</td>\n",
              "    </tr>\n",
              "    <tr>\n",
              "      <th>20635</th>\n",
              "      <td>-121.09</td>\n",
              "      <td>39.48</td>\n",
              "      <td>25.0</td>\n",
              "      <td>1665.0</td>\n",
              "      <td>374.0</td>\n",
              "      <td>845.0</td>\n",
              "      <td>330.0</td>\n",
              "      <td>1.5603</td>\n",
              "      <td>78100.0</td>\n",
              "      <td>1</td>\n",
              "    </tr>\n",
              "    <tr>\n",
              "      <th>20636</th>\n",
              "      <td>-121.21</td>\n",
              "      <td>39.49</td>\n",
              "      <td>18.0</td>\n",
              "      <td>697.0</td>\n",
              "      <td>150.0</td>\n",
              "      <td>356.0</td>\n",
              "      <td>114.0</td>\n",
              "      <td>2.5568</td>\n",
              "      <td>77100.0</td>\n",
              "      <td>1</td>\n",
              "    </tr>\n",
              "    <tr>\n",
              "      <th>20637</th>\n",
              "      <td>-121.22</td>\n",
              "      <td>39.43</td>\n",
              "      <td>17.0</td>\n",
              "      <td>2254.0</td>\n",
              "      <td>485.0</td>\n",
              "      <td>1007.0</td>\n",
              "      <td>433.0</td>\n",
              "      <td>1.7000</td>\n",
              "      <td>92300.0</td>\n",
              "      <td>1</td>\n",
              "    </tr>\n",
              "    <tr>\n",
              "      <th>20638</th>\n",
              "      <td>-121.32</td>\n",
              "      <td>39.43</td>\n",
              "      <td>18.0</td>\n",
              "      <td>1860.0</td>\n",
              "      <td>409.0</td>\n",
              "      <td>741.0</td>\n",
              "      <td>349.0</td>\n",
              "      <td>1.8672</td>\n",
              "      <td>84700.0</td>\n",
              "      <td>1</td>\n",
              "    </tr>\n",
              "    <tr>\n",
              "      <th>20639</th>\n",
              "      <td>-121.24</td>\n",
              "      <td>39.37</td>\n",
              "      <td>16.0</td>\n",
              "      <td>2785.0</td>\n",
              "      <td>616.0</td>\n",
              "      <td>1387.0</td>\n",
              "      <td>530.0</td>\n",
              "      <td>2.3886</td>\n",
              "      <td>89400.0</td>\n",
              "      <td>1</td>\n",
              "    </tr>\n",
              "  </tbody>\n",
              "</table>\n",
              "<p>20640 rows × 10 columns</p>\n",
              "</div>\n",
              "    <div class=\"colab-df-buttons\">\n",
              "\n",
              "  <div class=\"colab-df-container\">\n",
              "    <button class=\"colab-df-convert\" onclick=\"convertToInteractive('df-148b73b2-0f97-4635-ba0c-3e5826e0fe07')\"\n",
              "            title=\"Convert this dataframe to an interactive table.\"\n",
              "            style=\"display:none;\">\n",
              "\n",
              "  <svg xmlns=\"http://www.w3.org/2000/svg\" height=\"24px\" viewBox=\"0 -960 960 960\">\n",
              "    <path d=\"M120-120v-720h720v720H120Zm60-500h600v-160H180v160Zm220 220h160v-160H400v160Zm0 220h160v-160H400v160ZM180-400h160v-160H180v160Zm440 0h160v-160H620v160ZM180-180h160v-160H180v160Zm440 0h160v-160H620v160Z\"/>\n",
              "  </svg>\n",
              "    </button>\n",
              "\n",
              "  <style>\n",
              "    .colab-df-container {\n",
              "      display:flex;\n",
              "      gap: 12px;\n",
              "    }\n",
              "\n",
              "    .colab-df-convert {\n",
              "      background-color: #E8F0FE;\n",
              "      border: none;\n",
              "      border-radius: 50%;\n",
              "      cursor: pointer;\n",
              "      display: none;\n",
              "      fill: #1967D2;\n",
              "      height: 32px;\n",
              "      padding: 0 0 0 0;\n",
              "      width: 32px;\n",
              "    }\n",
              "\n",
              "    .colab-df-convert:hover {\n",
              "      background-color: #E2EBFA;\n",
              "      box-shadow: 0px 1px 2px rgba(60, 64, 67, 0.3), 0px 1px 3px 1px rgba(60, 64, 67, 0.15);\n",
              "      fill: #174EA6;\n",
              "    }\n",
              "\n",
              "    .colab-df-buttons div {\n",
              "      margin-bottom: 4px;\n",
              "    }\n",
              "\n",
              "    [theme=dark] .colab-df-convert {\n",
              "      background-color: #3B4455;\n",
              "      fill: #D2E3FC;\n",
              "    }\n",
              "\n",
              "    [theme=dark] .colab-df-convert:hover {\n",
              "      background-color: #434B5C;\n",
              "      box-shadow: 0px 1px 3px 1px rgba(0, 0, 0, 0.15);\n",
              "      filter: drop-shadow(0px 1px 2px rgba(0, 0, 0, 0.3));\n",
              "      fill: #FFFFFF;\n",
              "    }\n",
              "  </style>\n",
              "\n",
              "    <script>\n",
              "      const buttonEl =\n",
              "        document.querySelector('#df-148b73b2-0f97-4635-ba0c-3e5826e0fe07 button.colab-df-convert');\n",
              "      buttonEl.style.display =\n",
              "        google.colab.kernel.accessAllowed ? 'block' : 'none';\n",
              "\n",
              "      async function convertToInteractive(key) {\n",
              "        const element = document.querySelector('#df-148b73b2-0f97-4635-ba0c-3e5826e0fe07');\n",
              "        const dataTable =\n",
              "          await google.colab.kernel.invokeFunction('convertToInteractive',\n",
              "                                                    [key], {});\n",
              "        if (!dataTable) return;\n",
              "\n",
              "        const docLinkHtml = 'Like what you see? Visit the ' +\n",
              "          '<a target=\"_blank\" href=https://colab.research.google.com/notebooks/data_table.ipynb>data table notebook</a>'\n",
              "          + ' to learn more about interactive tables.';\n",
              "        element.innerHTML = '';\n",
              "        dataTable['output_type'] = 'display_data';\n",
              "        await google.colab.output.renderOutput(dataTable, element);\n",
              "        const docLink = document.createElement('div');\n",
              "        docLink.innerHTML = docLinkHtml;\n",
              "        element.appendChild(docLink);\n",
              "      }\n",
              "    </script>\n",
              "  </div>\n",
              "\n",
              "\n",
              "<div id=\"df-f6a31bbe-31c6-4a3d-acb9-f35b7fb90c04\">\n",
              "  <button class=\"colab-df-quickchart\" onclick=\"quickchart('df-f6a31bbe-31c6-4a3d-acb9-f35b7fb90c04')\"\n",
              "            title=\"Suggest charts\"\n",
              "            style=\"display:none;\">\n",
              "\n",
              "<svg xmlns=\"http://www.w3.org/2000/svg\" height=\"24px\"viewBox=\"0 0 24 24\"\n",
              "     width=\"24px\">\n",
              "    <g>\n",
              "        <path d=\"M19 3H5c-1.1 0-2 .9-2 2v14c0 1.1.9 2 2 2h14c1.1 0 2-.9 2-2V5c0-1.1-.9-2-2-2zM9 17H7v-7h2v7zm4 0h-2V7h2v10zm4 0h-2v-4h2v4z\"/>\n",
              "    </g>\n",
              "</svg>\n",
              "  </button>\n",
              "\n",
              "<style>\n",
              "  .colab-df-quickchart {\n",
              "      --bg-color: #E8F0FE;\n",
              "      --fill-color: #1967D2;\n",
              "      --hover-bg-color: #E2EBFA;\n",
              "      --hover-fill-color: #174EA6;\n",
              "      --disabled-fill-color: #AAA;\n",
              "      --disabled-bg-color: #DDD;\n",
              "  }\n",
              "\n",
              "  [theme=dark] .colab-df-quickchart {\n",
              "      --bg-color: #3B4455;\n",
              "      --fill-color: #D2E3FC;\n",
              "      --hover-bg-color: #434B5C;\n",
              "      --hover-fill-color: #FFFFFF;\n",
              "      --disabled-bg-color: #3B4455;\n",
              "      --disabled-fill-color: #666;\n",
              "  }\n",
              "\n",
              "  .colab-df-quickchart {\n",
              "    background-color: var(--bg-color);\n",
              "    border: none;\n",
              "    border-radius: 50%;\n",
              "    cursor: pointer;\n",
              "    display: none;\n",
              "    fill: var(--fill-color);\n",
              "    height: 32px;\n",
              "    padding: 0;\n",
              "    width: 32px;\n",
              "  }\n",
              "\n",
              "  .colab-df-quickchart:hover {\n",
              "    background-color: var(--hover-bg-color);\n",
              "    box-shadow: 0 1px 2px rgba(60, 64, 67, 0.3), 0 1px 3px 1px rgba(60, 64, 67, 0.15);\n",
              "    fill: var(--button-hover-fill-color);\n",
              "  }\n",
              "\n",
              "  .colab-df-quickchart-complete:disabled,\n",
              "  .colab-df-quickchart-complete:disabled:hover {\n",
              "    background-color: var(--disabled-bg-color);\n",
              "    fill: var(--disabled-fill-color);\n",
              "    box-shadow: none;\n",
              "  }\n",
              "\n",
              "  .colab-df-spinner {\n",
              "    border: 2px solid var(--fill-color);\n",
              "    border-color: transparent;\n",
              "    border-bottom-color: var(--fill-color);\n",
              "    animation:\n",
              "      spin 1s steps(1) infinite;\n",
              "  }\n",
              "\n",
              "  @keyframes spin {\n",
              "    0% {\n",
              "      border-color: transparent;\n",
              "      border-bottom-color: var(--fill-color);\n",
              "      border-left-color: var(--fill-color);\n",
              "    }\n",
              "    20% {\n",
              "      border-color: transparent;\n",
              "      border-left-color: var(--fill-color);\n",
              "      border-top-color: var(--fill-color);\n",
              "    }\n",
              "    30% {\n",
              "      border-color: transparent;\n",
              "      border-left-color: var(--fill-color);\n",
              "      border-top-color: var(--fill-color);\n",
              "      border-right-color: var(--fill-color);\n",
              "    }\n",
              "    40% {\n",
              "      border-color: transparent;\n",
              "      border-right-color: var(--fill-color);\n",
              "      border-top-color: var(--fill-color);\n",
              "    }\n",
              "    60% {\n",
              "      border-color: transparent;\n",
              "      border-right-color: var(--fill-color);\n",
              "    }\n",
              "    80% {\n",
              "      border-color: transparent;\n",
              "      border-right-color: var(--fill-color);\n",
              "      border-bottom-color: var(--fill-color);\n",
              "    }\n",
              "    90% {\n",
              "      border-color: transparent;\n",
              "      border-bottom-color: var(--fill-color);\n",
              "    }\n",
              "  }\n",
              "</style>\n",
              "\n",
              "  <script>\n",
              "    async function quickchart(key) {\n",
              "      const quickchartButtonEl =\n",
              "        document.querySelector('#' + key + ' button');\n",
              "      quickchartButtonEl.disabled = true;  // To prevent multiple clicks.\n",
              "      quickchartButtonEl.classList.add('colab-df-spinner');\n",
              "      try {\n",
              "        const charts = await google.colab.kernel.invokeFunction(\n",
              "            'suggestCharts', [key], {});\n",
              "      } catch (error) {\n",
              "        console.error('Error during call to suggestCharts:', error);\n",
              "      }\n",
              "      quickchartButtonEl.classList.remove('colab-df-spinner');\n",
              "      quickchartButtonEl.classList.add('colab-df-quickchart-complete');\n",
              "    }\n",
              "    (() => {\n",
              "      let quickchartButtonEl =\n",
              "        document.querySelector('#df-f6a31bbe-31c6-4a3d-acb9-f35b7fb90c04 button');\n",
              "      quickchartButtonEl.style.display =\n",
              "        google.colab.kernel.accessAllowed ? 'block' : 'none';\n",
              "    })();\n",
              "  </script>\n",
              "</div>\n",
              "\n",
              "  <div id=\"id_372c3108-e4c9-4955-b33b-00126f8803db\">\n",
              "    <style>\n",
              "      .colab-df-generate {\n",
              "        background-color: #E8F0FE;\n",
              "        border: none;\n",
              "        border-radius: 50%;\n",
              "        cursor: pointer;\n",
              "        display: none;\n",
              "        fill: #1967D2;\n",
              "        height: 32px;\n",
              "        padding: 0 0 0 0;\n",
              "        width: 32px;\n",
              "      }\n",
              "\n",
              "      .colab-df-generate:hover {\n",
              "        background-color: #E2EBFA;\n",
              "        box-shadow: 0px 1px 2px rgba(60, 64, 67, 0.3), 0px 1px 3px 1px rgba(60, 64, 67, 0.15);\n",
              "        fill: #174EA6;\n",
              "      }\n",
              "\n",
              "      [theme=dark] .colab-df-generate {\n",
              "        background-color: #3B4455;\n",
              "        fill: #D2E3FC;\n",
              "      }\n",
              "\n",
              "      [theme=dark] .colab-df-generate:hover {\n",
              "        background-color: #434B5C;\n",
              "        box-shadow: 0px 1px 3px 1px rgba(0, 0, 0, 0.15);\n",
              "        filter: drop-shadow(0px 1px 2px rgba(0, 0, 0, 0.3));\n",
              "        fill: #FFFFFF;\n",
              "      }\n",
              "    </style>\n",
              "    <button class=\"colab-df-generate\" onclick=\"generateWithVariable('data')\"\n",
              "            title=\"Generate code using this dataframe.\"\n",
              "            style=\"display:none;\">\n",
              "\n",
              "  <svg xmlns=\"http://www.w3.org/2000/svg\" height=\"24px\"viewBox=\"0 0 24 24\"\n",
              "       width=\"24px\">\n",
              "    <path d=\"M7,19H8.4L18.45,9,17,7.55,7,17.6ZM5,21V16.75L18.45,3.32a2,2,0,0,1,2.83,0l1.4,1.43a1.91,1.91,0,0,1,.58,1.4,1.91,1.91,0,0,1-.58,1.4L9.25,21ZM18.45,9,17,7.55Zm-12,3A5.31,5.31,0,0,0,4.9,8.1,5.31,5.31,0,0,0,1,6.5,5.31,5.31,0,0,0,4.9,4.9,5.31,5.31,0,0,0,6.5,1,5.31,5.31,0,0,0,8.1,4.9,5.31,5.31,0,0,0,12,6.5,5.46,5.46,0,0,0,6.5,12Z\"/>\n",
              "  </svg>\n",
              "    </button>\n",
              "    <script>\n",
              "      (() => {\n",
              "      const buttonEl =\n",
              "        document.querySelector('#id_372c3108-e4c9-4955-b33b-00126f8803db button.colab-df-generate');\n",
              "      buttonEl.style.display =\n",
              "        google.colab.kernel.accessAllowed ? 'block' : 'none';\n",
              "\n",
              "      buttonEl.onclick = () => {\n",
              "        google.colab.notebook.generateWithVariable('data');\n",
              "      }\n",
              "      })();\n",
              "    </script>\n",
              "  </div>\n",
              "\n",
              "    </div>\n",
              "  </div>\n"
            ],
            "application/vnd.google.colaboratory.intrinsic+json": {
              "type": "dataframe",
              "variable_name": "data",
              "summary": "{\n  \"name\": \"data\",\n  \"rows\": 20640,\n  \"fields\": [\n    {\n      \"column\": \"longitude\",\n      \"properties\": {\n        \"dtype\": \"number\",\n        \"std\": 2.0035317235025882,\n        \"min\": -124.35,\n        \"max\": -114.31,\n        \"num_unique_values\": 844,\n        \"samples\": [\n          -118.63,\n          -119.86,\n          -121.26\n        ],\n        \"semantic_type\": \"\",\n        \"description\": \"\"\n      }\n    },\n    {\n      \"column\": \"latitude\",\n      \"properties\": {\n        \"dtype\": \"number\",\n        \"std\": 2.1359523974571153,\n        \"min\": 32.54,\n        \"max\": 41.95,\n        \"num_unique_values\": 862,\n        \"samples\": [\n          33.7,\n          34.41,\n          38.24\n        ],\n        \"semantic_type\": \"\",\n        \"description\": \"\"\n      }\n    },\n    {\n      \"column\": \"housing_median_age\",\n      \"properties\": {\n        \"dtype\": \"number\",\n        \"std\": 12.58555761211165,\n        \"min\": 1.0,\n        \"max\": 52.0,\n        \"num_unique_values\": 52,\n        \"samples\": [\n          35.0,\n          25.0,\n          7.0\n        ],\n        \"semantic_type\": \"\",\n        \"description\": \"\"\n      }\n    },\n    {\n      \"column\": \"total_rooms\",\n      \"properties\": {\n        \"dtype\": \"number\",\n        \"std\": 2181.615251582795,\n        \"min\": 2.0,\n        \"max\": 39320.0,\n        \"num_unique_values\": 5926,\n        \"samples\": [\n          699.0,\n          1544.0,\n          3966.0\n        ],\n        \"semantic_type\": \"\",\n        \"description\": \"\"\n      }\n    },\n    {\n      \"column\": \"total_bedrooms\",\n      \"properties\": {\n        \"dtype\": \"number\",\n        \"std\": 419.26659232552373,\n        \"min\": 1.0,\n        \"max\": 6445.0,\n        \"num_unique_values\": 1924,\n        \"samples\": [\n          1126.0,\n          1842.0,\n          1116.0\n        ],\n        \"semantic_type\": \"\",\n        \"description\": \"\"\n      }\n    },\n    {\n      \"column\": \"population\",\n      \"properties\": {\n        \"dtype\": \"number\",\n        \"std\": 1132.462121765341,\n        \"min\": 3.0,\n        \"max\": 35682.0,\n        \"num_unique_values\": 3888,\n        \"samples\": [\n          4169.0,\n          636.0,\n          3367.0\n        ],\n        \"semantic_type\": \"\",\n        \"description\": \"\"\n      }\n    },\n    {\n      \"column\": \"households\",\n      \"properties\": {\n        \"dtype\": \"number\",\n        \"std\": 382.32975283161073,\n        \"min\": 1.0,\n        \"max\": 6082.0,\n        \"num_unique_values\": 1815,\n        \"samples\": [\n          21.0,\n          750.0,\n          1447.0\n        ],\n        \"semantic_type\": \"\",\n        \"description\": \"\"\n      }\n    },\n    {\n      \"column\": \"median_income\",\n      \"properties\": {\n        \"dtype\": \"number\",\n        \"std\": 1.8998217179452688,\n        \"min\": 0.4999,\n        \"max\": 15.0001,\n        \"num_unique_values\": 12928,\n        \"samples\": [\n          5.0286,\n          2.0433,\n          6.1228\n        ],\n        \"semantic_type\": \"\",\n        \"description\": \"\"\n      }\n    },\n    {\n      \"column\": \"median_house_value\",\n      \"properties\": {\n        \"dtype\": \"number\",\n        \"std\": 115395.61587441387,\n        \"min\": 14999.0,\n        \"max\": 500001.0,\n        \"num_unique_values\": 3842,\n        \"samples\": [\n          194300.0,\n          379000.0,\n          230100.0\n        ],\n        \"semantic_type\": \"\",\n        \"description\": \"\"\n      }\n    },\n    {\n      \"column\": \"ocean_proximity\",\n      \"properties\": {\n        \"dtype\": \"number\",\n        \"std\": 1,\n        \"min\": 0,\n        \"max\": 4,\n        \"num_unique_values\": 5,\n        \"samples\": [\n          0,\n          2,\n          1\n        ],\n        \"semantic_type\": \"\",\n        \"description\": \"\"\n      }\n    }\n  ]\n}"
            }
          },
          "metadata": {}
        }
      ]
    },
    {
      "cell_type": "code",
      "source": [
        "X_train, X_test, y_train, y_test = train_test_split(X, y, test_size=100, random_state=42)"
      ],
      "metadata": {
        "id": "BTBIiJWezizO"
      },
      "execution_count": 9,
      "outputs": []
    },
    {
      "cell_type": "code",
      "source": [
        "def  featureNormalize(X):\n",
        "    X_norm = X.copy()\n",
        "    mu = np.zeros(X.shape[1])\n",
        "    sigma = np.zeros(X.shape[1])\n",
        "\n",
        "    mu = np.mean(X, axis = 0)\n",
        "    sigma = np.std(X, axis = 0)\n",
        "    X_norm = (X - mu) / sigma\n",
        "\n",
        "    return X_norm, mu, sigma"
      ],
      "metadata": {
        "id": "pX_QM4DlHSJR"
      },
      "execution_count": 10,
      "outputs": []
    },
    {
      "cell_type": "code",
      "source": [],
      "metadata": {
        "id": "Tk_xKEIxxCVZ"
      },
      "execution_count": 10,
      "outputs": []
    },
    {
      "cell_type": "code",
      "source": [
        "X_train_norm, mu, sigma = featureNormalize(X_train)\n",
        "X_test_norm = (X_test - mu) / sigma\n",
        "\n",
        "# Agregar columna de unos para el término de sesgo\n",
        "m = X_train_norm.shape[0]\n",
        "\n",
        "#print(X)\n",
        "print('Media calculada:', mu)\n",
        "print('Desviación estandar calculada:', sigma)\n",
        "print(X_train_norm)"
      ],
      "metadata": {
        "colab": {
          "base_uri": "https://localhost:8080/"
        },
        "id": "a-yI3uQxJVrk",
        "outputId": "470e0b79-f8a4-4633-8221-bfda4235a53c"
      },
      "execution_count": 11,
      "outputs": [
        {
          "output_type": "stream",
          "name": "stdout",
          "text": [
            "Media calculada: longitude               -119.569950\n",
            "latitude                  35.632311\n",
            "housing_median_age        28.634810\n",
            "total_rooms             2636.467429\n",
            "total_bedrooms           537.870553\n",
            "population              1425.169523\n",
            "households               499.540214\n",
            "median_income              3.872070\n",
            "median_house_value    206914.686368\n",
            "dtype: float64\n",
            "Desviación estandar calculada: longitude                  2.003436\n",
            "latitude                   2.135664\n",
            "housing_median_age        12.588228\n",
            "total_rooms             2183.975300\n",
            "total_bedrooms           420.275782\n",
            "population              1133.130403\n",
            "households               382.721155\n",
            "median_income              1.901716\n",
            "median_house_value    115429.065860\n",
            "dtype: float64\n",
            "       longitude  latitude  housing_median_age  total_rooms  total_bedrooms  \\\n",
            "13336   0.948346 -0.745581           -1.242018    -0.500678        0.000000   \n",
            "10389   0.953337 -0.960971           -1.798094     0.709501        0.000000   \n",
            "14462   1.148003 -1.302785           -0.209307    -0.578517        0.000000   \n",
            "14930   1.272789 -1.391750           -0.765383    -0.854161        0.000000   \n",
            "6962    0.758672 -0.768993            0.743964    -0.465879        0.000000   \n",
            "...          ...       ...                 ...          ...             ...   \n",
            "11284   0.803595 -0.867323            0.505646    -0.598206       -0.801546   \n",
            "11964   1.068140 -0.754946            0.346768     0.204916        0.076448   \n",
            "5390    0.593955 -0.750264            0.585086    -0.245180        0.074069   \n",
            "860    -1.192976  0.911983           -1.083140     0.429736        0.140692   \n",
            "15795  -1.422581  1.000948            1.856114     0.727816        1.849094   \n",
            "\n",
            "       population  households  median_income  median_house_value  \n",
            "13336   -0.572899   -0.369826      -0.427125           -0.928836  \n",
            "10389    0.325497    0.108329       3.063827            1.305436  \n",
            "14462   -0.721161   -0.604984       0.290753            2.322511  \n",
            "14930   -0.925904   -1.023043       1.448760            0.577717  \n",
            "6962    -0.475823   -0.372439      -0.073234           -0.212379  \n",
            "...           ...         ...            ...                 ...  \n",
            "11284   -0.677036   -0.738240       1.313513            0.193065  \n",
            "11964    0.289314   -0.132055      -0.432278           -0.945296  \n",
            "5390     0.291962    0.071749      -0.493065            0.131555  \n",
            "860      0.310494    0.155361       0.971296            0.663484  \n",
            "15795    1.053568    1.939950      -0.681789            1.023012  \n",
            "\n",
            "[20540 rows x 9 columns]\n"
          ]
        }
      ]
    },
    {
      "cell_type": "code",
      "source": [
        "X_train_norm = np.concatenate([np.ones((m, 1)), X_train_norm], axis=1)\n",
        "X_test_norm = np.concatenate([np.ones((X_test_norm.shape[0], 1)), X_test_norm], axis=1)\n"
      ],
      "metadata": {
        "id": "L1ipMv0sJYDl"
      },
      "execution_count": 12,
      "outputs": []
    },
    {
      "cell_type": "code",
      "source": [
        "def computeCostMulti(X, y, theta):\n",
        "    m = y.shape[0]\n",
        "    J = 0\n",
        "    h = np.dot(X, theta)\n",
        "    J = (1/(2 * m)) * np.sum(np.square(np.dot(X, theta) - y))\n",
        "\n",
        "    return J"
      ],
      "metadata": {
        "id": "oiZXpjk0KbUR"
      },
      "execution_count": 13,
      "outputs": []
    },
    {
      "cell_type": "code",
      "source": [
        "def gradientDescentMulti(X, y, theta, alpha, num_iters):\n",
        "\n",
        "    m = y.shape[0]\n",
        "    theta = theta.copy()\n",
        "    J_history = []\n",
        "    for i in range(num_iters):\n",
        "        theta = theta - (alpha / m) * (np.dot(X, theta) - y).dot(X)\n",
        "        J_history.append(computeCostMulti(X, y, theta))\n",
        "\n",
        "    return theta, J_history"
      ],
      "metadata": {
        "id": "RqGd_sx3KeLB"
      },
      "execution_count": 14,
      "outputs": []
    },
    {
      "cell_type": "code",
      "source": [
        "alpha = 0.0001\n",
        "num_iters = 30000\n",
        "\n",
        "theta = np.zeros(X_train_norm.shape[1])\n",
        "theta, J_history = gradientDescentMulti(X_train_norm, y_train, theta, alpha, num_iters)\n",
        "\n",
        "pyplot.plot(np.arange(len(J_history)), J_history, lw=2)\n",
        "pyplot.xlabel('Numero de iteraciones')\n",
        "pyplot.ylabel('Costo J')\n",
        "\n",
        "print('theta calculado por el descenso por el gradiente: {:s}'.format(str(theta)))\n",
        "\n",
        "price = np.dot(X_test_norm, theta)\n",
        "\n",
        "# Mostrar algunas predicciones y compararlas con los valores reales\n",
        "for i in range(100):\n",
        "     print('precio predesido de viviendas (usando el descenso por el gradiente): ${:.0f}'.format(price[i]))\n",
        "    #print(f'Predicción: ${predicciones[i]:.0f}, Real: ${y_test.iloc[i]:.0f}')\n"
      ],
      "metadata": {
        "colab": {
          "base_uri": "https://localhost:8080/",
          "height": 1000
        },
        "id": "Pn5mcnt-KjBx",
        "outputId": "dc33a25a-7298-45cb-d96d-58793d8473a3"
      },
      "execution_count": 39,
      "outputs": [
        {
          "output_type": "stream",
          "name": "stdout",
          "text": [
            "theta calculado por el descenso por el gradiente: [196614.55597001  -7666.89403978  -8951.0620699    7232.2253155\n",
            "   1155.0611847    3473.61971279  -6154.87562435   4055.81782815\n",
            "  23762.52327587  88916.13205139]\n",
            "precio predesido de viviendas (usando el descenso por el gradiente): $38663\n",
            "precio predesido de viviendas (usando el descenso por el gradiente): $58478\n",
            "precio predesido de viviendas (usando el descenso por el gradiente): $438974\n",
            "precio predesido de viviendas (usando el descenso por el gradiente): $223308\n",
            "precio predesido de viviendas (usando el descenso por el gradiente): $258567\n",
            "precio predesido de viviendas (usando el descenso por el gradiente): $158743\n",
            "precio predesido de viviendas (usando el descenso por el gradiente): $211129\n",
            "precio predesido de viviendas (usando el descenso por el gradiente): $162259\n",
            "precio predesido de viviendas (usando el descenso por el gradiente): $301607\n",
            "precio predesido de viviendas (usando el descenso por el gradiente): $445359\n",
            "precio predesido de viviendas (usando el descenso por el gradiente): $110360\n",
            "precio predesido de viviendas (usando el descenso por el gradiente): $225788\n",
            "precio predesido de viviendas (usando el descenso por el gradiente): $175282\n",
            "precio predesido de viviendas (usando el descenso por el gradiente): $192880\n",
            "precio predesido de viviendas (usando el descenso por el gradiente): $224491\n",
            "precio predesido de viviendas (usando el descenso por el gradiente): $125365\n",
            "precio predesido de viviendas (usando el descenso por el gradiente): $184291\n",
            "precio predesido de viviendas (usando el descenso por el gradiente): $182085\n",
            "precio predesido de viviendas (usando el descenso por el gradiente): $151636\n",
            "precio predesido de viviendas (usando el descenso por el gradiente): $119138\n",
            "precio predesido de viviendas (usando el descenso por el gradiente): $386976\n",
            "precio predesido de viviendas (usando el descenso por el gradiente): $371861\n",
            "precio predesido de viviendas (usando el descenso por el gradiente): $144786\n",
            "precio predesido de viviendas (usando el descenso por el gradiente): $456126\n",
            "precio predesido de viviendas (usando el descenso por el gradiente): $160255\n",
            "precio predesido de viviendas (usando el descenso por el gradiente): $50928\n",
            "precio predesido de viviendas (usando el descenso por el gradiente): $136235\n",
            "precio predesido de viviendas (usando el descenso por el gradiente): $105700\n",
            "precio predesido de viviendas (usando el descenso por el gradiente): $187969\n",
            "precio predesido de viviendas (usando el descenso por el gradiente): $352491\n",
            "precio predesido de viviendas (usando el descenso por el gradiente): $81435\n",
            "precio predesido de viviendas (usando el descenso por el gradiente): $123350\n",
            "precio predesido de viviendas (usando el descenso por el gradiente): $128836\n",
            "precio predesido de viviendas (usando el descenso por el gradiente): $438340\n",
            "precio predesido de viviendas (usando el descenso por el gradiente): $252601\n",
            "precio predesido de viviendas (usando el descenso por el gradiente): $231470\n",
            "precio predesido de viviendas (usando el descenso por el gradiente): $312747\n",
            "precio predesido de viviendas (usando el descenso por el gradiente): $148435\n",
            "precio predesido de viviendas (usando el descenso por el gradiente): $130419\n",
            "precio predesido de viviendas (usando el descenso por el gradiente): $150780\n",
            "precio predesido de viviendas (usando el descenso por el gradiente): $263768\n",
            "precio predesido de viviendas (usando el descenso por el gradiente): $99268\n",
            "precio predesido de viviendas (usando el descenso por el gradiente): $66667\n",
            "precio predesido de viviendas (usando el descenso por el gradiente): $198920\n",
            "precio predesido de viviendas (usando el descenso por el gradiente): $144052\n",
            "precio predesido de viviendas (usando el descenso por el gradiente): $249835\n",
            "precio predesido de viviendas (usando el descenso por el gradiente): $147640\n",
            "precio predesido de viviendas (usando el descenso por el gradiente): $257357\n",
            "precio predesido de viviendas (usando el descenso por el gradiente): $232208\n",
            "precio predesido de viviendas (usando el descenso por el gradiente): $103104\n",
            "precio predesido de viviendas (usando el descenso por el gradiente): $234588\n",
            "precio predesido de viviendas (usando el descenso por el gradiente): $147622\n",
            "precio predesido de viviendas (usando el descenso por el gradiente): $134506\n",
            "precio predesido de viviendas (usando el descenso por el gradiente): $72685\n",
            "precio predesido de viviendas (usando el descenso por el gradiente): $144524\n",
            "precio predesido de viviendas (usando el descenso por el gradiente): $145600\n",
            "precio predesido de viviendas (usando el descenso por el gradiente): $69677\n",
            "precio predesido de viviendas (usando el descenso por el gradiente): $217474\n",
            "precio predesido de viviendas (usando el descenso por el gradiente): $246999\n",
            "precio predesido de viviendas (usando el descenso por el gradiente): $212408\n",
            "precio predesido de viviendas (usando el descenso por el gradiente): $433559\n",
            "precio predesido de viviendas (usando el descenso por el gradiente): $191170\n",
            "precio predesido de viviendas (usando el descenso por el gradiente): $68934\n",
            "precio predesido de viviendas (usando el descenso por el gradiente): $97771\n",
            "precio predesido de viviendas (usando el descenso por el gradiente): $283919\n",
            "precio predesido de viviendas (usando el descenso por el gradiente): $173427\n",
            "precio predesido de viviendas (usando el descenso por el gradiente): $224529\n",
            "precio predesido de viviendas (usando el descenso por el gradiente): $132775\n",
            "precio predesido de viviendas (usando el descenso por el gradiente): $132904\n",
            "precio predesido de viviendas (usando el descenso por el gradiente): $139412\n",
            "precio predesido de viviendas (usando el descenso por el gradiente): $75765\n",
            "precio predesido de viviendas (usando el descenso por el gradiente): $198651\n",
            "precio predesido de viviendas (usando el descenso por el gradiente): $75813\n",
            "precio predesido de viviendas (usando el descenso por el gradiente): $168064\n",
            "precio predesido de viviendas (usando el descenso por el gradiente): $209190\n",
            "precio predesido de viviendas (usando el descenso por el gradiente): $142424\n",
            "precio predesido de viviendas (usando el descenso por el gradiente): $382945\n",
            "precio predesido de viviendas (usando el descenso por el gradiente): $181462\n",
            "precio predesido de viviendas (usando el descenso por el gradiente): $175941\n",
            "precio predesido de viviendas (usando el descenso por el gradiente): $294182\n",
            "precio predesido de viviendas (usando el descenso por el gradiente): $65492\n",
            "precio predesido de viviendas (usando el descenso por el gradiente): $132528\n",
            "precio predesido de viviendas (usando el descenso por el gradiente): $130394\n",
            "precio predesido de viviendas (usando el descenso por el gradiente): $91325\n",
            "precio predesido de viviendas (usando el descenso por el gradiente): $378542\n",
            "precio predesido de viviendas (usando el descenso por el gradiente): $210072\n",
            "precio predesido de viviendas (usando el descenso por el gradiente): $87756\n",
            "precio predesido de viviendas (usando el descenso por el gradiente): $56731\n",
            "precio predesido de viviendas (usando el descenso por el gradiente): $137861\n",
            "precio predesido de viviendas (usando el descenso por el gradiente): $156304\n",
            "precio predesido de viviendas (usando el descenso por el gradiente): $106281\n",
            "precio predesido de viviendas (usando el descenso por el gradiente): $245753\n",
            "precio predesido de viviendas (usando el descenso por el gradiente): $98607\n",
            "precio predesido de viviendas (usando el descenso por el gradiente): $44369\n",
            "precio predesido de viviendas (usando el descenso por el gradiente): $78523\n",
            "precio predesido de viviendas (usando el descenso por el gradiente): $113341\n",
            "precio predesido de viviendas (usando el descenso por el gradiente): $265276\n",
            "precio predesido de viviendas (usando el descenso por el gradiente): $216346\n",
            "precio predesido de viviendas (usando el descenso por el gradiente): $94404\n",
            "precio predesido de viviendas (usando el descenso por el gradiente): $175621\n"
          ]
        },
        {
          "output_type": "display_data",
          "data": {
            "text/plain": [
              "<Figure size 640x480 with 1 Axes>"
            ],
            "image/png": "[encoded data removed]"
          },
          "metadata": {}
        }
      ]
    },
    {
      "cell_type": "markdown",
      "source": [
        "**ECUACION DE LA NORMAL**\n",
        "\n",
        "aqui se nonmalizaron los datos y se uso la funcion de la normal para realizar la predicion del precio de la vivienda"
      ],
      "metadata": {
        "id": "d-vyacb9kaD7"
      }
    },
    {
      "cell_type": "code",
      "source": [
        "data = pd.read_csv('/content/sample_data/housing.csv')"
      ],
      "metadata": {
        "id": "MHWl_oG1ltG6"
      },
      "execution_count": 16,
      "outputs": []
    },
    {
      "cell_type": "code",
      "source": [
        "columnas_categoricas = data.select_dtypes(include=['object']).columns\n",
        "for columna in columnas_categoricas:\n",
        "  le = LabelEncoder()\n",
        "  data[columna] = le.fit_transform(data[columna])\n",
        "\n",
        "columnas_especificas = ['total_bedrooms']\n",
        "media_columnas = data[columnas_especificas].mean()\n",
        "data[columnas_especificas] = data[columnas_especificas].fillna(media_columnas)\n",
        "data.info()"
      ],
      "metadata": {
        "colab": {
          "base_uri": "https://localhost:8080/"
        },
        "id": "MBIzwQIPmDJa",
        "outputId": "706a5976-0ab3-4777-a74b-3677f40febc1"
      },
      "execution_count": 17,
      "outputs": [
        {
          "output_type": "stream",
          "name": "stdout",
          "text": [
            "<class 'pandas.core.frame.DataFrame'>\n",
            "RangeIndex: 20640 entries, 0 to 20639\n",
            "Data columns (total 10 columns):\n",
            " #   Column              Non-Null Count  Dtype  \n",
            "---  ------              --------------  -----  \n",
            " 0   longitude           20640 non-null  float64\n",
            " 1   latitude            20640 non-null  float64\n",
            " 2   housing_median_age  20640 non-null  float64\n",
            " 3   total_rooms         20640 non-null  float64\n",
            " 4   total_bedrooms      20640 non-null  float64\n",
            " 5   population          20640 non-null  float64\n",
            " 6   households          20640 non-null  float64\n",
            " 7   median_income       20640 non-null  float64\n",
            " 8   median_house_value  20640 non-null  float64\n",
            " 9   ocean_proximity     20640 non-null  int64  \n",
            "dtypes: float64(9), int64(1)\n",
            "memory usage: 1.6 MB\n"
          ]
        }
      ]
    },
    {
      "cell_type": "code",
      "source": [
        "\n",
        "X = data.iloc[:, :9]\n",
        "y = data.iloc[:, 8]\n",
        "m = y.size"
      ],
      "metadata": {
        "id": "6p83BJwwmNpt"
      },
      "execution_count": 18,
      "outputs": []
    },
    {
      "cell_type": "code",
      "source": [
        "def  featureNormalize(X):\n",
        "    X_norm = X.copy()\n",
        "    mu = np.zeros(X.shape[1])\n",
        "    sigma = np.zeros(X.shape[1])\n",
        "\n",
        "    mu = np.mean(X, axis = 0)\n",
        "    sigma = np.std(X, axis = 0)\n",
        "    X_norm = (X - mu) / sigma\n",
        "\n",
        "    return X_norm, mu, sigma\n"
      ],
      "metadata": {
        "id": "j4UXxHw3mURb"
      },
      "execution_count": 19,
      "outputs": []
    },
    {
      "cell_type": "code",
      "source": [
        "X_norm, mu, sigma = featureNormalize(X)\n",
        "X = np.concatenate([np.ones((m, 1)), X_norm], axis=1)"
      ],
      "metadata": {
        "id": "SpLlfY7Xrgcf"
      },
      "execution_count": 20,
      "outputs": []
    },
    {
      "cell_type": "code",
      "source": [
        "def normalEqn(X, y):\n",
        "\n",
        "    theta = np.zeros(X.shape[1])\n",
        "\n",
        "    theta = np.dot(np.dot(np.linalg.inv(np.dot(X.T,X)),X.T),y)\n",
        "\n",
        "    return theta"
      ],
      "metadata": {
        "id": "GWa0aU7DUxWU"
      },
      "execution_count": 21,
      "outputs": []
    },
    {
      "cell_type": "code",
      "source": [
        "\n",
        "theta = normalEqn(X, y);\n",
        "\n",
        "print('Theta calculado a partir de la ecuación de la normal: {:s}'.format(str(theta)));\n",
        "\n",
        "X_array = [1,-125.6,50.88,61,879 ,150 ,450,160,10.265,2]\n",
        "price = np.dot(X_array, theta)\n",
        "\n",
        "print('Precio predecido de vivienda (usando la ecuación de la normal): ${:.0f}'.format(price))"
      ],
      "metadata": {
        "colab": {
          "base_uri": "https://localhost:8080/"
        },
        "id": "qaOy7PtxU84b",
        "outputId": "3b2eda18-0564-4c42-c2a5-d893ecc140a7"
      },
      "execution_count": 22,
      "outputs": [
        {
          "output_type": "stream",
          "name": "stdout",
          "text": [
            "Theta calculado a partir de la ecuación de la normal: [ 2.06855817e+05  6.37328412e-10  6.68023858e-10 -4.49063009e-11\n",
            "  1.00754960e-10 -4.14729584e-10  1.17154286e-10  1.61890057e-10\n",
            " -1.66917147e-10  1.15392820e+05]\n",
            "Precio predecido de vivienda (usando la ecuación de la normal): $437641\n"
          ]
        }
      ]
    },
    {
      "cell_type": "markdown",
      "source": [
        "**REGRECION POLINOMICA**\n",
        "\n",
        " se trato el data set para posterior hacer la predicion con la regrecion polinomica para realizar la predicion del precio de la viviendas"
      ],
      "metadata": {
        "id": "1p4a7SimkuaS"
      }
    },
    {
      "cell_type": "code",
      "source": [
        "data = pd.read_csv('/content/sample_data/housing.csv')"
      ],
      "metadata": {
        "id": "-WwQZlAfVWg9"
      },
      "execution_count": 23,
      "outputs": []
    },
    {
      "cell_type": "code",
      "source": [
        "columnas_categoricas = data.select_dtypes(include=['object']).columns"
      ],
      "metadata": {
        "id": "x5AA4Ze7fGPc"
      },
      "execution_count": 24,
      "outputs": []
    },
    {
      "cell_type": "code",
      "source": [
        "for columna in columnas_categoricas:\n",
        "  le = LabelEncoder()\n",
        "  data[columna] = le.fit_transform(data[columna])\n",
        "\n",
        "print(data)"
      ],
      "metadata": {
        "colab": {
          "base_uri": "https://localhost:8080/"
        },
        "id": "9Xw8XUZBfT1o",
        "outputId": "25ee7c75-bb42-4e27-8163-d202a7acae7e"
      },
      "execution_count": 25,
      "outputs": [
        {
          "output_type": "stream",
          "name": "stdout",
          "text": [
            "       longitude  latitude  housing_median_age  total_rooms  total_bedrooms  \\\n",
            "0        -122.23     37.88                41.0        880.0           129.0   \n",
            "1        -122.22     37.86                21.0       7099.0          1106.0   \n",
            "2        -122.24     37.85                52.0       1467.0           190.0   \n",
            "3        -122.25     37.85                52.0       1274.0           235.0   \n",
            "4        -122.25     37.85                52.0       1627.0           280.0   \n",
            "...          ...       ...                 ...          ...             ...   \n",
            "20635    -121.09     39.48                25.0       1665.0           374.0   \n",
            "20636    -121.21     39.49                18.0        697.0           150.0   \n",
            "20637    -121.22     39.43                17.0       2254.0           485.0   \n",
            "20638    -121.32     39.43                18.0       1860.0           409.0   \n",
            "20639    -121.24     39.37                16.0       2785.0           616.0   \n",
            "\n",
            "       population  households  median_income  median_house_value  \\\n",
            "0           322.0       126.0         8.3252            452600.0   \n",
            "1          2401.0      1138.0         8.3014            358500.0   \n",
            "2           496.0       177.0         7.2574            352100.0   \n",
            "3           558.0       219.0         5.6431            341300.0   \n",
            "4           565.0       259.0         3.8462            342200.0   \n",
            "...           ...         ...            ...                 ...   \n",
            "20635       845.0       330.0         1.5603             78100.0   \n",
            "20636       356.0       114.0         2.5568             77100.0   \n",
            "20637      1007.0       433.0         1.7000             92300.0   \n",
            "20638       741.0       349.0         1.8672             84700.0   \n",
            "20639      1387.0       530.0         2.3886             89400.0   \n",
            "\n",
            "       ocean_proximity  \n",
            "0                    3  \n",
            "1                    3  \n",
            "2                    3  \n",
            "3                    3  \n",
            "4                    3  \n",
            "...                ...  \n",
            "20635                1  \n",
            "20636                1  \n",
            "20637                1  \n",
            "20638                1  \n",
            "20639                1  \n",
            "\n",
            "[20640 rows x 10 columns]\n"
          ]
        }
      ]
    },
    {
      "cell_type": "code",
      "source": [
        "\n",
        "columnas_especificas = ['total_bedrooms']\n",
        "media_columnas = data[columnas_especificas].mean()\n",
        "data[columnas_especificas] = data[columnas_especificas].fillna(media_columnas)\n",
        "data.info()"
      ],
      "metadata": {
        "colab": {
          "base_uri": "https://localhost:8080/"
        },
        "id": "w-bl5zxyfW4Y",
        "outputId": "55c953c3-c790-4ac0-df24-4133947b8698"
      },
      "execution_count": 26,
      "outputs": [
        {
          "output_type": "stream",
          "name": "stdout",
          "text": [
            "<class 'pandas.core.frame.DataFrame'>\n",
            "RangeIndex: 20640 entries, 0 to 20639\n",
            "Data columns (total 10 columns):\n",
            " #   Column              Non-Null Count  Dtype  \n",
            "---  ------              --------------  -----  \n",
            " 0   longitude           20640 non-null  float64\n",
            " 1   latitude            20640 non-null  float64\n",
            " 2   housing_median_age  20640 non-null  float64\n",
            " 3   total_rooms         20640 non-null  float64\n",
            " 4   total_bedrooms      20640 non-null  float64\n",
            " 5   population          20640 non-null  float64\n",
            " 6   households          20640 non-null  float64\n",
            " 7   median_income       20640 non-null  float64\n",
            " 8   median_house_value  20640 non-null  float64\n",
            " 9   ocean_proximity     20640 non-null  int64  \n",
            "dtypes: float64(9), int64(1)\n",
            "memory usage: 1.6 MB\n"
          ]
        }
      ]
    },
    {
      "cell_type": "code",
      "source": [
        "X = data.iloc[:, :9]\n",
        "y = data.iloc[:, 8]\n",
        "m = y.size"
      ],
      "metadata": {
        "id": "f7QaBSdNdbTa"
      },
      "execution_count": 27,
      "outputs": []
    },
    {
      "cell_type": "code",
      "source": [
        "print(X)\n",
        "print(y)\n",
        "print(m)"
      ],
      "metadata": {
        "colab": {
          "base_uri": "https://localhost:8080/"
        },
        "id": "HtGIahxKdfei",
        "outputId": "d7e923d6-0a25-437e-b7ed-0572847f3511"
      },
      "execution_count": 28,
      "outputs": [
        {
          "output_type": "stream",
          "name": "stdout",
          "text": [
            "       longitude  latitude  housing_median_age  total_rooms  total_bedrooms  \\\n",
            "0        -122.23     37.88                41.0        880.0           129.0   \n",
            "1        -122.22     37.86                21.0       7099.0          1106.0   \n",
            "2        -122.24     37.85                52.0       1467.0           190.0   \n",
            "3        -122.25     37.85                52.0       1274.0           235.0   \n",
            "4        -122.25     37.85                52.0       1627.0           280.0   \n",
            "...          ...       ...                 ...          ...             ...   \n",
            "20635    -121.09     39.48                25.0       1665.0           374.0   \n",
            "20636    -121.21     39.49                18.0        697.0           150.0   \n",
            "20637    -121.22     39.43                17.0       2254.0           485.0   \n",
            "20638    -121.32     39.43                18.0       1860.0           409.0   \n",
            "20639    -121.24     39.37                16.0       2785.0           616.0   \n",
            "\n",
            "       population  households  median_income  median_house_value  \n",
            "0           322.0       126.0         8.3252            452600.0  \n",
            "1          2401.0      1138.0         8.3014            358500.0  \n",
            "2           496.0       177.0         7.2574            352100.0  \n",
            "3           558.0       219.0         5.6431            341300.0  \n",
            "4           565.0       259.0         3.8462            342200.0  \n",
            "...           ...         ...            ...                 ...  \n",
            "20635       845.0       330.0         1.5603             78100.0  \n",
            "20636       356.0       114.0         2.5568             77100.0  \n",
            "20637      1007.0       433.0         1.7000             92300.0  \n",
            "20638       741.0       349.0         1.8672             84700.0  \n",
            "20639      1387.0       530.0         2.3886             89400.0  \n",
            "\n",
            "[20640 rows x 9 columns]\n",
            "0        452600.0\n",
            "1        358500.0\n",
            "2        352100.0\n",
            "3        341300.0\n",
            "4        342200.0\n",
            "           ...   \n",
            "20635     78100.0\n",
            "20636     77100.0\n",
            "20637     92300.0\n",
            "20638     84700.0\n",
            "20639     89400.0\n",
            "Name: median_house_value, Length: 20640, dtype: float64\n",
            "20640\n"
          ]
        }
      ]
    },
    {
      "cell_type": "code",
      "source": [
        "X = np.concatenate([X, X * X], axis=1)"
      ],
      "metadata": {
        "id": "RgGHHgXkdi3f"
      },
      "execution_count": 29,
      "outputs": []
    },
    {
      "cell_type": "code",
      "source": [
        "print(X)"
      ],
      "metadata": {
        "colab": {
          "base_uri": "https://localhost:8080/"
        },
        "id": "7MNKdXwpdlcv",
        "outputId": "b1ab4aba-e306-4d9e-d397-22276a0fc2a0"
      },
      "execution_count": 30,
      "outputs": [
        {
          "output_type": "stream",
          "name": "stdout",
          "text": [
            "[[-1.22230000e+02  3.78800000e+01  4.10000000e+01 ...  1.58760000e+04\n",
            "   6.93089550e+01  2.04846760e+11]\n",
            " [-1.22220000e+02  3.78600000e+01  2.10000000e+01 ...  1.29504400e+06\n",
            "   6.89132420e+01  1.28522250e+11]\n",
            " [-1.22240000e+02  3.78500000e+01  5.20000000e+01 ...  3.13290000e+04\n",
            "   5.26698548e+01  1.23974410e+11]\n",
            " ...\n",
            " [-1.21220000e+02  3.94300000e+01  1.70000000e+01 ...  1.87489000e+05\n",
            "   2.89000000e+00  8.51929000e+09]\n",
            " [-1.21320000e+02  3.94300000e+01  1.80000000e+01 ...  1.21801000e+05\n",
            "   3.48643584e+00  7.17409000e+09]\n",
            " [-1.21240000e+02  3.93700000e+01  1.60000000e+01 ...  2.80900000e+05\n",
            "   5.70540996e+00  7.99236000e+09]]\n"
          ]
        }
      ]
    },
    {
      "cell_type": "code",
      "source": [
        "num_filas, num_columnas = X.shape\n",
        "print(\"Número de filas:\", num_filas)\n",
        "print(\"Número de columnas:\", num_columnas)"
      ],
      "metadata": {
        "colab": {
          "base_uri": "https://localhost:8080/"
        },
        "id": "-apMvxU4doUI",
        "outputId": "13ccbc72-a3e2-4a86-9619-efe7064be3d3"
      },
      "execution_count": 31,
      "outputs": [
        {
          "output_type": "stream",
          "name": "stdout",
          "text": [
            "Número de filas: 20640\n",
            "Número de columnas: 18\n"
          ]
        }
      ]
    },
    {
      "cell_type": "code",
      "source": [
        "def  featureNormalize(X):\n",
        "    X_norm = X.copy()\n",
        "    mu = np.zeros(X.shape[1])\n",
        "    sigma = np.zeros(X.shape[1])\n",
        "\n",
        "    mu = np.mean(X, axis = 0)\n",
        "    sigma = np.std(X, axis = 0)\n",
        "    X_norm = (X - mu) / sigma\n",
        "\n",
        "    return X_norm, mu, sigma"
      ],
      "metadata": {
        "id": "L0_SVofVdrh4"
      },
      "execution_count": 32,
      "outputs": []
    },
    {
      "cell_type": "code",
      "source": [
        "\n",
        "X_norm, mu, sigma = featureNormalize(X)\n",
        "print(X)\n",
        "print('Media calculada:', mu)\n",
        "print('Desviación estandar calculada:', sigma)\n",
        "print(X_norm)\n"
      ],
      "metadata": {
        "colab": {
          "base_uri": "https://localhost:8080/"
        },
        "id": "COhC_PIbdtsH",
        "outputId": "4fa216d5-efdd-4ce4-fc10-48ae410fc906"
      },
      "execution_count": 33,
      "outputs": [
        {
          "output_type": "stream",
          "name": "stdout",
          "text": [
            "[[-1.22230000e+02  3.78800000e+01  4.10000000e+01 ...  1.58760000e+04\n",
            "   6.93089550e+01  2.04846760e+11]\n",
            " [-1.22220000e+02  3.78600000e+01  2.10000000e+01 ...  1.29504400e+06\n",
            "   6.89132420e+01  1.28522250e+11]\n",
            " [-1.22240000e+02  3.78500000e+01  5.20000000e+01 ...  3.13290000e+04\n",
            "   5.26698548e+01  1.23974410e+11]\n",
            " ...\n",
            " [-1.21220000e+02  3.94300000e+01  1.70000000e+01 ...  1.87489000e+05\n",
            "   2.89000000e+00  8.51929000e+09]\n",
            " [-1.21320000e+02  3.94300000e+01  1.80000000e+01 ...  1.21801000e+05\n",
            "   3.48643584e+00  7.17409000e+09]\n",
            " [-1.21240000e+02  3.93700000e+01  1.60000000e+01 ...  2.80900000e+05\n",
            "   5.70540996e+00  7.99236000e+09]]\n",
            "Media calculada: [-1.19569704e+02  3.56318614e+01  2.86394864e+01  2.63576308e+03\n",
            "  5.37870553e+02  1.42547674e+03  4.99539680e+02  3.87067100e+00\n",
            "  2.06855817e+05  1.43009282e+04  1.27419162e+03  9.78608769e+02\n",
            "  1.17064615e+07  4.65080690e+05  3.31439227e+06  3.95708850e+05\n",
            "  1.85912417e+01  5.61048320e+10]\n",
            "Desviación estandar calculada: [2.00348319e+00 2.13590065e+00 1.25852527e+01 2.18156240e+03\n",
            " 4.19256436e+02 1.13243469e+03 3.82320491e+02 1.89977569e+00\n",
            " 1.15392820e+05 4.80316804e+02 1.54382629e+02 7.50677033e+02\n",
            " 3.70190839e+07 1.22613105e+06 1.32481967e+07 1.02008935e+06\n",
            " 2.19460119e+01 6.27272163e+10]\n",
            "[[-1.32783522  1.05254828  0.98214266 ... -0.37235253  2.31102186\n",
            "   2.37125026]\n",
            " [-1.32284391  1.04318455 -0.60701891 ...  0.8816239   2.29299066\n",
            "   1.15448162]\n",
            " [-1.33282653  1.03850269  1.85618152 ... -0.35720386  1.55283854\n",
            "   1.08197975]\n",
            " ...\n",
            " [-0.8237132   1.77823747 -0.92485123 ... -0.20411923 -0.71544852\n",
            "  -0.75861077]\n",
            " [-0.87362627  1.77823747 -0.84539315 ... -0.26851359 -0.68827111\n",
            "  -0.78005601]\n",
            " [-0.83369581  1.75014627 -1.00430931 ... -0.11254784 -0.58716052\n",
            "  -0.76701111]]\n"
          ]
        }
      ]
    },
    {
      "cell_type": "code",
      "source": [],
      "metadata": {
        "id": "twgMqH_zet3H"
      },
      "execution_count": 33,
      "outputs": []
    },
    {
      "cell_type": "code",
      "source": [
        "X = np.concatenate([np.ones((m, 1)), X_norm], axis=1)\n",
        "print(X)"
      ],
      "metadata": {
        "colab": {
          "base_uri": "https://localhost:8080/"
        },
        "id": "M8ITmkGReht4",
        "outputId": "61e50111-d6be-4319-fda5-a14a73cb0104"
      },
      "execution_count": 34,
      "outputs": [
        {
          "output_type": "stream",
          "name": "stdout",
          "text": [
            "[[ 1.         -1.32783522  1.05254828 ... -0.37235253  2.31102186\n",
            "   2.37125026]\n",
            " [ 1.         -1.32284391  1.04318455 ...  0.8816239   2.29299066\n",
            "   1.15448162]\n",
            " [ 1.         -1.33282653  1.03850269 ... -0.35720386  1.55283854\n",
            "   1.08197975]\n",
            " ...\n",
            " [ 1.         -0.8237132   1.77823747 ... -0.20411923 -0.71544852\n",
            "  -0.75861077]\n",
            " [ 1.         -0.87362627  1.77823747 ... -0.26851359 -0.68827111\n",
            "  -0.78005601]\n",
            " [ 1.         -0.83369581  1.75014627 ... -0.11254784 -0.58716052\n",
            "  -0.76701111]]\n"
          ]
        }
      ]
    },
    {
      "cell_type": "code",
      "source": [
        "def computeCostMulti(X, y, theta):\n",
        "    m = y.shape[0]\n",
        "    J = 0\n",
        "    h = np.dot(X, theta)\n",
        "    J = (1/(2 * m)) * np.sum(np.square(np.dot(X, theta) - y))\n",
        "    return J"
      ],
      "metadata": {
        "id": "-KeFcfHieuxm"
      },
      "execution_count": 35,
      "outputs": []
    },
    {
      "cell_type": "code",
      "source": [
        "def gradientDescentPoly(X, y, theta, alpha, num_iters):\n",
        "    m = y.shape[0]\n",
        "    theta = theta.copy()\n",
        "    J_history = []\n",
        "    for i in range(num_iters):\n",
        "        theta = theta - (alpha / m) * (np.dot(X, theta) - y).dot(X)\n",
        "        J_history.append(computeCostMulti(X, y, theta))\n",
        "\n",
        "    return theta, J_history"
      ],
      "metadata": {
        "id": "oStZcTu7exgV"
      },
      "execution_count": 36,
      "outputs": []
    },
    {
      "cell_type": "code",
      "source": [
        "num_filas, num_columnas = X.shape\n",
        "print(\"Número de filas:\", num_filas)\n",
        "print(\"Número de columnas:\", num_columnas)"
      ],
      "metadata": {
        "colab": {
          "base_uri": "https://localhost:8080/"
        },
        "id": "KsEP1Ys1e0AN",
        "outputId": "60669e06-09ea-43d3-9dc4-8ef0d86191ff"
      },
      "execution_count": 37,
      "outputs": [
        {
          "output_type": "stream",
          "name": "stdout",
          "text": [
            "Número de filas: 20640\n",
            "Número de columnas: 19\n"
          ]
        }
      ]
    },
    {
      "cell_type": "code",
      "source": [
        "\n",
        "alpha = 0.0001\n",
        "num_iters = 30000\n",
        "\n",
        "theta = np.zeros(19)\n",
        "theta, J_history = gradientDescentPoly(X, y, theta, alpha, num_iters)\n",
        "\n",
        "pyplot.plot(np.arange(len(J_history)), J_history, lw=2)\n",
        "pyplot.xlabel('Numero de iteraciones')\n",
        "pyplot.ylabel('Costo J')\n",
        "\n",
        "print('theta calculado por el descenso por el gradiente: {:s}'.format(str(theta)))\n",
        "\n",
        "X_array = [1,-125.6,50.88,61,879 ,150 ,450,160,10.265,2,\n",
        "           15775.36,2588.77,3721,772641 ,22500 ,202500,25600,105.37,4]\n",
        "X_array[1:19] = (X_array[1:19] - mu) / sigma\n",
        "precio = np.dot(X_array, theta)\n",
        "\n",
        "print('Precio predecido de una vivienda (usando el descenso por el gradiente): ${:.0f}'.format(precio))"
      ],
      "metadata": {
        "colab": {
          "base_uri": "https://localhost:8080/",
          "height": 569
        },
        "id": "-F6ZIsHnfm5v",
        "outputId": "25e44cdd-5e2d-4d56-86b0-28574dc5833c"
      },
      "execution_count": 38,
      "outputs": [
        {
          "output_type": "stream",
          "name": "stdout",
          "text": [
            "theta calculado por el descenso por el gradiente: [ 1.96558617e+05 -5.68950287e+03 -6.46486250e+03  1.20368020e+03\n",
            "  9.94556054e+02  2.86900598e+03 -3.14945432e+03  3.48662904e+03\n",
            "  1.00991108e+04  5.57116731e+04  5.67443745e+03 -6.62221756e+03\n",
            "  1.45990169e+03 -1.54833442e+03 -4.69448986e+02 -6.37515702e+02\n",
            "  1.91159534e+02  3.92237111e+02  4.68707850e+04]\n",
            "Precio predecido de una vivienda (usando el descenso por el gradiente): $27610\n"
          ]
        },
        {
          "output_type": "display_data",
          "data": {
            "text/plain": [
              "<Figure size 640x480 with 1 Axes>"
            ],
            "image/png": "[encoded data removed]"
          },
          "metadata": {}
        }
      ]
    },
    {
      "cell_type": "code",
      "source": [],
      "metadata": {
        "id": "sikwGOykj7Df"
      },
      "execution_count": 38,
      "outputs": []
    },
    {
      "cell_type": "markdown",
      "source": [
        "en general se uso 3 metodos para predecir los precios de las viviendas  tratando el dataset  combirtiendo  los  datos de tipo objeto a enteros lueho se uso la regresion lineal multivariable para predecir  posteriormente se uso la ecuacion de la normal y finalmente  la regrecion polinomica"
      ],
      "metadata": {
        "id": "3WSVkaj46IPQ"
      }
    }
  ]
}