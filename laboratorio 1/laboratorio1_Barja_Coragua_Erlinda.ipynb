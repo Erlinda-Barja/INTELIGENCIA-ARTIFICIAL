{
  "nbformat": 4,
  "nbformat_minor": 0,
  "metadata": {
    "colab": {
      "provenance": []
    },
    "kernelspec": {
      "name": "python3",
      "display_name": "Python 3"
    },
    "language_info": {
      "name": "python"
    }
  },
  "cells": [
    {
      "cell_type": "code",
      "execution_count": 1,
      "metadata": {
        "id": "qUxgZvq33-ID"
      },
      "outputs": [],
      "source": [
        "#Nombre: Barja Coragua Erlinda\n",
        "#carrera: Ing.de Sistemas\n",
        "# REPOSITORIO https://github.com/Erlinda-Barja/INTELIGENCIA-ARTIFICIAL\n",
        "# utilizado para manejos de directorios y rutas\n",
        "import os\n",
        "import numpy as np\n",
        "from matplotlib import pyplot\n",
        "from mpl_toolkits.mplot3d import Axes3D  # Necesario para graficar superficies 3D\n",
        "%matplotlib inline"
      ]
    },
    {
      "cell_type": "code",
      "source": [
        "import pandas as pd\n",
        "from sklearn.preprocessing import LabelEncoder\n",
        "from datetime import datetime"
      ],
      "metadata": {
        "id": "3zeLCpwjiQCT"
      },
      "execution_count": 2,
      "outputs": []
    },
    {
      "cell_type": "markdown",
      "source": [],
      "metadata": {
        "id": "MFrwudpuxQcR"
      }
    },
    {
      "cell_type": "code",
      "source": [
        "#Carga de dataset\n",
        "data = pd.read_csv('/content/sample_data/housing.csv')"
      ],
      "metadata": {
        "id": "V0ZXOA-6iUmV"
      },
      "execution_count": 3,
      "outputs": []
    },
    {
      "cell_type": "code",
      "source": [
        "print(data)"
      ],
      "metadata": {
        "colab": {
          "base_uri": "https://localhost:8080/"
        },
        "id": "h325dVhXicrs",
        "outputId": "8f79369b-f476-4651-9791-68710bc8a6c3"
      },
      "execution_count": 4,
      "outputs": [
        {
          "output_type": "stream",
          "name": "stdout",
          "text": [
            "       longitude  latitude  housing_median_age  total_rooms  total_bedrooms  \\\n",
            "0        -122.23     37.88                41.0        880.0           129.0   \n",
            "1        -122.22     37.86                21.0       7099.0          1106.0   \n",
            "2        -122.24     37.85                52.0       1467.0           190.0   \n",
            "3        -122.25     37.85                52.0       1274.0           235.0   \n",
            "4        -122.25     37.85                52.0       1627.0           280.0   \n",
            "...          ...       ...                 ...          ...             ...   \n",
            "20635    -121.09     39.48                25.0       1665.0           374.0   \n",
            "20636    -121.21     39.49                18.0        697.0           150.0   \n",
            "20637    -121.22     39.43                17.0       2254.0           485.0   \n",
            "20638    -121.32     39.43                18.0       1860.0           409.0   \n",
            "20639    -121.24     39.37                16.0       2785.0           616.0   \n",
            "\n",
            "       population  households  median_income  median_house_value  \\\n",
            "0           322.0       126.0         8.3252            452600.0   \n",
            "1          2401.0      1138.0         8.3014            358500.0   \n",
            "2           496.0       177.0         7.2574            352100.0   \n",
            "3           558.0       219.0         5.6431            341300.0   \n",
            "4           565.0       259.0         3.8462            342200.0   \n",
            "...           ...         ...            ...                 ...   \n",
            "20635       845.0       330.0         1.5603             78100.0   \n",
            "20636       356.0       114.0         2.5568             77100.0   \n",
            "20637      1007.0       433.0         1.7000             92300.0   \n",
            "20638       741.0       349.0         1.8672             84700.0   \n",
            "20639      1387.0       530.0         2.3886             89400.0   \n",
            "\n",
            "      ocean_proximity  \n",
            "0            NEAR BAY  \n",
            "1            NEAR BAY  \n",
            "2            NEAR BAY  \n",
            "3            NEAR BAY  \n",
            "4            NEAR BAY  \n",
            "...               ...  \n",
            "20635          INLAND  \n",
            "20636          INLAND  \n",
            "20637          INLAND  \n",
            "20638          INLAND  \n",
            "20639          INLAND  \n",
            "\n",
            "[20640 rows x 10 columns]\n"
          ]
        }
      ]
    },
    {
      "cell_type": "code",
      "source": [
        "data.info()"
      ],
      "metadata": {
        "colab": {
          "base_uri": "https://localhost:8080/"
        },
        "id": "ZoYIJwRyifh-",
        "outputId": "d0b397d3-f537-44a5-de8d-9c2de3c83942"
      },
      "execution_count": 5,
      "outputs": [
        {
          "output_type": "stream",
          "name": "stdout",
          "text": [
            "<class 'pandas.core.frame.DataFrame'>\n",
            "RangeIndex: 20640 entries, 0 to 20639\n",
            "Data columns (total 10 columns):\n",
            " #   Column              Non-Null Count  Dtype  \n",
            "---  ------              --------------  -----  \n",
            " 0   longitude           20640 non-null  float64\n",
            " 1   latitude            20640 non-null  float64\n",
            " 2   housing_median_age  20640 non-null  float64\n",
            " 3   total_rooms         20640 non-null  float64\n",
            " 4   total_bedrooms      20433 non-null  float64\n",
            " 5   population          20640 non-null  float64\n",
            " 6   households          20640 non-null  float64\n",
            " 7   median_income       20640 non-null  float64\n",
            " 8   median_house_value  20640 non-null  float64\n",
            " 9   ocean_proximity     20640 non-null  object \n",
            "dtypes: float64(9), object(1)\n",
            "memory usage: 1.6+ MB\n"
          ]
        }
      ]
    },
    {
      "cell_type": "code",
      "source": [
        "#variables categoricas\n",
        "columnas_categoricas = data.select_dtypes(include=['object']).columns\n"
      ],
      "metadata": {
        "id": "sFmWfM7Mjn9Z"
      },
      "execution_count": 6,
      "outputs": []
    },
    {
      "cell_type": "code",
      "source": [
        "#Procesamiento de frases o palabras\n",
        "for columna in columnas_categoricas:\n",
        "  le = LabelEncoder()\n",
        "  data[columna] = le.fit_transform(data[columna])\n",
        "#resultado\n",
        "print(data)"
      ],
      "metadata": {
        "id": "GcxRaOoqkOyD",
        "colab": {
          "base_uri": "https://localhost:8080/"
        },
        "outputId": "f31c61ce-ab08-43a0-ebd8-e603ea9a7877"
      },
      "execution_count": 7,
      "outputs": [
        {
          "output_type": "stream",
          "name": "stdout",
          "text": [
            "       longitude  latitude  housing_median_age  total_rooms  total_bedrooms  \\\n",
            "0        -122.23     37.88                41.0        880.0           129.0   \n",
            "1        -122.22     37.86                21.0       7099.0          1106.0   \n",
            "2        -122.24     37.85                52.0       1467.0           190.0   \n",
            "3        -122.25     37.85                52.0       1274.0           235.0   \n",
            "4        -122.25     37.85                52.0       1627.0           280.0   \n",
            "...          ...       ...                 ...          ...             ...   \n",
            "20635    -121.09     39.48                25.0       1665.0           374.0   \n",
            "20636    -121.21     39.49                18.0        697.0           150.0   \n",
            "20637    -121.22     39.43                17.0       2254.0           485.0   \n",
            "20638    -121.32     39.43                18.0       1860.0           409.0   \n",
            "20639    -121.24     39.37                16.0       2785.0           616.0   \n",
            "\n",
            "       population  households  median_income  median_house_value  \\\n",
            "0           322.0       126.0         8.3252            452600.0   \n",
            "1          2401.0      1138.0         8.3014            358500.0   \n",
            "2           496.0       177.0         7.2574            352100.0   \n",
            "3           558.0       219.0         5.6431            341300.0   \n",
            "4           565.0       259.0         3.8462            342200.0   \n",
            "...           ...         ...            ...                 ...   \n",
            "20635       845.0       330.0         1.5603             78100.0   \n",
            "20636       356.0       114.0         2.5568             77100.0   \n",
            "20637      1007.0       433.0         1.7000             92300.0   \n",
            "20638       741.0       349.0         1.8672             84700.0   \n",
            "20639      1387.0       530.0         2.3886             89400.0   \n",
            "\n",
            "       ocean_proximity  \n",
            "0                    3  \n",
            "1                    3  \n",
            "2                    3  \n",
            "3                    3  \n",
            "4                    3  \n",
            "...                ...  \n",
            "20635                1  \n",
            "20636                1  \n",
            "20637                1  \n",
            "20638                1  \n",
            "20639                1  \n",
            "\n",
            "[20640 rows x 10 columns]\n"
          ]
        }
      ]
    },
    {
      "cell_type": "code",
      "source": [
        "data.info()"
      ],
      "metadata": {
        "colab": {
          "base_uri": "https://localhost:8080/"
        },
        "id": "tJ9GFsACksGy",
        "outputId": "16c2965f-a621-42a6-a749-b5027ad9fc96"
      },
      "execution_count": 8,
      "outputs": [
        {
          "output_type": "stream",
          "name": "stdout",
          "text": [
            "<class 'pandas.core.frame.DataFrame'>\n",
            "RangeIndex: 20640 entries, 0 to 20639\n",
            "Data columns (total 10 columns):\n",
            " #   Column              Non-Null Count  Dtype  \n",
            "---  ------              --------------  -----  \n",
            " 0   longitude           20640 non-null  float64\n",
            " 1   latitude            20640 non-null  float64\n",
            " 2   housing_median_age  20640 non-null  float64\n",
            " 3   total_rooms         20640 non-null  float64\n",
            " 4   total_bedrooms      20433 non-null  float64\n",
            " 5   population          20640 non-null  float64\n",
            " 6   households          20640 non-null  float64\n",
            " 7   median_income       20640 non-null  float64\n",
            " 8   median_house_value  20640 non-null  float64\n",
            " 9   ocean_proximity     20640 non-null  int64  \n",
            "dtypes: float64(9), int64(1)\n",
            "memory usage: 1.6 MB\n"
          ]
        }
      ]
    },
    {
      "cell_type": "code",
      "source": [
        "#llenar datos vacios\n",
        "columnas_especificas = ['total_bedrooms']\n",
        "media_columnas = data[columnas_especificas].mean()\n",
        "data[columnas_especificas] = data[columnas_especificas].fillna(media_columnas)\n",
        "data.info()"
      ],
      "metadata": {
        "id": "aL01HjE1tMNP",
        "colab": {
          "base_uri": "https://localhost:8080/"
        },
        "outputId": "65a90895-f6d8-4b7b-d77b-d0a7e0880878"
      },
      "execution_count": 9,
      "outputs": [
        {
          "output_type": "stream",
          "name": "stdout",
          "text": [
            "<class 'pandas.core.frame.DataFrame'>\n",
            "RangeIndex: 20640 entries, 0 to 20639\n",
            "Data columns (total 10 columns):\n",
            " #   Column              Non-Null Count  Dtype  \n",
            "---  ------              --------------  -----  \n",
            " 0   longitude           20640 non-null  float64\n",
            " 1   latitude            20640 non-null  float64\n",
            " 2   housing_median_age  20640 non-null  float64\n",
            " 3   total_rooms         20640 non-null  float64\n",
            " 4   total_bedrooms      20640 non-null  float64\n",
            " 5   population          20640 non-null  float64\n",
            " 6   households          20640 non-null  float64\n",
            " 7   median_income       20640 non-null  float64\n",
            " 8   median_house_value  20640 non-null  float64\n",
            " 9   ocean_proximity     20640 non-null  int64  \n",
            "dtypes: float64(9), int64(1)\n",
            "memory usage: 1.6 MB\n"
          ]
        }
      ]
    },
    {
      "cell_type": "code",
      "source": [
        "# Lectura de Datos\n",
        "X = data.iloc[:, :9]\n",
        "y = data.iloc[:, 8]\n",
        "m = y.size"
      ],
      "metadata": {
        "id": "YuuRUXgCwvZ_"
      },
      "execution_count": 10,
      "outputs": []
    },
    {
      "cell_type": "code",
      "source": [
        "print(X)\n",
        "print('*'*25)\n",
        "print(y)"
      ],
      "metadata": {
        "colab": {
          "base_uri": "https://localhost:8080/"
        },
        "id": "x1NBC6A6xFoC",
        "outputId": "b5d5eb24-0367-429a-a105-3a42466e4e58"
      },
      "execution_count": 11,
      "outputs": [
        {
          "output_type": "stream",
          "name": "stdout",
          "text": [
            "       longitude  latitude  housing_median_age  total_rooms  total_bedrooms  \\\n",
            "0        -122.23     37.88                41.0        880.0           129.0   \n",
            "1        -122.22     37.86                21.0       7099.0          1106.0   \n",
            "2        -122.24     37.85                52.0       1467.0           190.0   \n",
            "3        -122.25     37.85                52.0       1274.0           235.0   \n",
            "4        -122.25     37.85                52.0       1627.0           280.0   \n",
            "...          ...       ...                 ...          ...             ...   \n",
            "20635    -121.09     39.48                25.0       1665.0           374.0   \n",
            "20636    -121.21     39.49                18.0        697.0           150.0   \n",
            "20637    -121.22     39.43                17.0       2254.0           485.0   \n",
            "20638    -121.32     39.43                18.0       1860.0           409.0   \n",
            "20639    -121.24     39.37                16.0       2785.0           616.0   \n",
            "\n",
            "       population  households  median_income  median_house_value  \n",
            "0           322.0       126.0         8.3252            452600.0  \n",
            "1          2401.0      1138.0         8.3014            358500.0  \n",
            "2           496.0       177.0         7.2574            352100.0  \n",
            "3           558.0       219.0         5.6431            341300.0  \n",
            "4           565.0       259.0         3.8462            342200.0  \n",
            "...           ...         ...            ...                 ...  \n",
            "20635       845.0       330.0         1.5603             78100.0  \n",
            "20636       356.0       114.0         2.5568             77100.0  \n",
            "20637      1007.0       433.0         1.7000             92300.0  \n",
            "20638       741.0       349.0         1.8672             84700.0  \n",
            "20639      1387.0       530.0         2.3886             89400.0  \n",
            "\n",
            "[20640 rows x 9 columns]\n",
            "*************************\n",
            "0        452600.0\n",
            "1        358500.0\n",
            "2        352100.0\n",
            "3        341300.0\n",
            "4        342200.0\n",
            "           ...   \n",
            "20635     78100.0\n",
            "20636     77100.0\n",
            "20637     92300.0\n",
            "20638     84700.0\n",
            "20639     89400.0\n",
            "Name: median_house_value, Length: 20640, dtype: float64\n"
          ]
        }
      ]
    },
    {
      "cell_type": "code",
      "source": [
        "def  featureNormalize(X):\n",
        "    X_norm = X.copy()\n",
        "    mu = np.zeros(X.shape[1])\n",
        "    sigma = np.zeros(X.shape[1])\n",
        "\n",
        "    mu = np.mean(X, axis = 0)\n",
        "    sigma = np.std(X, axis = 0)\n",
        "    X_norm = (X - mu) / sigma\n",
        "\n",
        "    return X_norm, mu, sigma"
      ],
      "metadata": {
        "id": "DrrFytt2gkI8"
      },
      "execution_count": 12,
      "outputs": []
    },
    {
      "cell_type": "code",
      "source": [
        "# llama featureNormalize con los datos cargados\n",
        "X_norm, mu, sigma = featureNormalize(X)\n",
        "\n",
        "print(X)\n",
        "print('Media calculada:', mu)\n",
        "print('Desviación estandar calculada:', sigma)\n",
        "print(X_norm)"
      ],
      "metadata": {
        "colab": {
          "base_uri": "https://localhost:8080/"
        },
        "id": "MhHhItqc4YLy",
        "outputId": "fed64c91-3116-49f9-d311-4dad787b76dd"
      },
      "execution_count": 13,
      "outputs": [
        {
          "output_type": "stream",
          "name": "stdout",
          "text": [
            "       longitude  latitude  housing_median_age  total_rooms  total_bedrooms  \\\n",
            "0        -122.23     37.88                41.0        880.0           129.0   \n",
            "1        -122.22     37.86                21.0       7099.0          1106.0   \n",
            "2        -122.24     37.85                52.0       1467.0           190.0   \n",
            "3        -122.25     37.85                52.0       1274.0           235.0   \n",
            "4        -122.25     37.85                52.0       1627.0           280.0   \n",
            "...          ...       ...                 ...          ...             ...   \n",
            "20635    -121.09     39.48                25.0       1665.0           374.0   \n",
            "20636    -121.21     39.49                18.0        697.0           150.0   \n",
            "20637    -121.22     39.43                17.0       2254.0           485.0   \n",
            "20638    -121.32     39.43                18.0       1860.0           409.0   \n",
            "20639    -121.24     39.37                16.0       2785.0           616.0   \n",
            "\n",
            "       population  households  median_income  median_house_value  \n",
            "0           322.0       126.0         8.3252            452600.0  \n",
            "1          2401.0      1138.0         8.3014            358500.0  \n",
            "2           496.0       177.0         7.2574            352100.0  \n",
            "3           558.0       219.0         5.6431            341300.0  \n",
            "4           565.0       259.0         3.8462            342200.0  \n",
            "...           ...         ...            ...                 ...  \n",
            "20635       845.0       330.0         1.5603             78100.0  \n",
            "20636       356.0       114.0         2.5568             77100.0  \n",
            "20637      1007.0       433.0         1.7000             92300.0  \n",
            "20638       741.0       349.0         1.8672             84700.0  \n",
            "20639      1387.0       530.0         2.3886             89400.0  \n",
            "\n",
            "[20640 rows x 9 columns]\n",
            "Media calculada: longitude               -119.569704\n",
            "latitude                  35.631861\n",
            "housing_median_age        28.639486\n",
            "total_rooms             2635.763081\n",
            "total_bedrooms           537.870553\n",
            "population              1425.476744\n",
            "households               499.539680\n",
            "median_income              3.870671\n",
            "median_house_value    206855.816909\n",
            "dtype: float64\n",
            "Desviación estandar calculada: longitude                  2.003483\n",
            "latitude                   2.135901\n",
            "housing_median_age        12.585253\n",
            "total_rooms             2181.562402\n",
            "total_bedrooms           419.256436\n",
            "population              1132.434688\n",
            "households               382.320491\n",
            "median_income              1.899776\n",
            "median_house_value    115392.820404\n",
            "dtype: float64\n",
            "       longitude  latitude  housing_median_age  total_rooms  total_bedrooms  \\\n",
            "0      -1.327835  1.052548            0.982143    -0.804819       -0.975228   \n",
            "1      -1.322844  1.043185           -0.607019     2.045890        1.355088   \n",
            "2      -1.332827  1.038503            1.856182    -0.535746       -0.829732   \n",
            "3      -1.337818  1.038503            1.856182    -0.624215       -0.722399   \n",
            "4      -1.337818  1.038503            1.856182    -0.462404       -0.615066   \n",
            "...          ...       ...                 ...          ...             ...   \n",
            "20635  -0.758826  1.801647           -0.289187    -0.444985       -0.390860   \n",
            "20636  -0.818722  1.806329           -0.845393    -0.888704       -0.925139   \n",
            "20637  -0.823713  1.778237           -0.924851    -0.174995       -0.126106   \n",
            "20638  -0.873626  1.778237           -0.845393    -0.355600       -0.307379   \n",
            "20639  -0.833696  1.750146           -1.004309     0.068408        0.186352   \n",
            "\n",
            "       population  households  median_income  median_house_value  \n",
            "0       -0.974429   -0.977033       2.344766            2.129631  \n",
            "1        0.861439    1.669961       2.332238            1.314156  \n",
            "2       -0.820777   -0.843637       1.782699            1.258693  \n",
            "3       -0.766028   -0.733781       0.932968            1.165100  \n",
            "4       -0.759847   -0.629157      -0.012881            1.172900  \n",
            "...           ...         ...            ...                 ...  \n",
            "20635   -0.512592   -0.443449      -1.216128           -1.115804  \n",
            "20636   -0.944405   -1.008420      -0.691593           -1.124470  \n",
            "20637   -0.369537   -0.174042      -1.142593           -0.992746  \n",
            "20638   -0.604429   -0.393753      -1.054583           -1.058608  \n",
            "20639   -0.033977    0.079672      -0.780129           -1.017878  \n",
            "\n",
            "[20640 rows x 9 columns]\n"
          ]
        }
      ]
    },
    {
      "cell_type": "code",
      "source": [
        "# Añade el termino de interseccion a X\n",
        "# (Columna de unos para X0)\n",
        "X = np.concatenate([np.ones((m, 1)), X_norm], axis=1)"
      ],
      "metadata": {
        "id": "EB4cCmdm4bxJ"
      },
      "execution_count": 14,
      "outputs": []
    },
    {
      "cell_type": "code",
      "source": [
        "print(X)"
      ],
      "metadata": {
        "colab": {
          "base_uri": "https://localhost:8080/"
        },
        "id": "jxdWrQDC4fcD",
        "outputId": "d73bf78a-e5fa-4a13-a5cb-5b3830c4b64e"
      },
      "execution_count": 15,
      "outputs": [
        {
          "output_type": "stream",
          "name": "stdout",
          "text": [
            "[[ 1.         -1.32783522  1.05254828 ... -0.97703285  2.34476576\n",
            "   2.12963148]\n",
            " [ 1.         -1.32284391  1.04318455 ...  1.66996103  2.33223796\n",
            "   1.31415614]\n",
            " [ 1.         -1.33282653  1.03850269 ... -0.84363692  1.7826994\n",
            "   1.25869341]\n",
            " ...\n",
            " [ 1.         -0.8237132   1.77823747 ... -0.17404163 -1.14259331\n",
            "  -0.99274649]\n",
            " [ 1.         -0.87362627  1.77823747 ... -0.39375258 -1.05458292\n",
            "  -1.05860847]\n",
            " [ 1.         -0.83369581  1.75014627 ...  0.07967221 -0.78012947\n",
            "  -1.01787803]]\n"
          ]
        }
      ]
    },
    {
      "cell_type": "code",
      "source": [
        "def computeCostMulti(X, y, theta):\n",
        "    # Inicializa algunos valores utiles\n",
        "    m = y.shape[0] # numero de ejemplos de entrenamiento\n",
        "\n",
        "    J = 0\n",
        "\n",
        "    h = np.dot(X, theta)\n",
        "\n",
        "    J = (1/(2 * m)) * np.sum(np.square(np.dot(X, theta) - y))\n",
        "\n",
        "    return J\n"
      ],
      "metadata": {
        "id": "is_NER384kX5"
      },
      "execution_count": 16,
      "outputs": []
    },
    {
      "cell_type": "code",
      "source": [
        "def gradientDescentMulti(X, y, theta, alpha, num_iters):\n",
        "\n",
        "    # Inicializa algunos valores\n",
        "    m = y.shape[0] # numero de ejemplos de entrenamiento\n",
        "\n",
        "    # realiza una copia de theta, el cual será acutalizada por el descenso por el gradiente\n",
        "    theta = theta.copy()\n",
        "\n",
        "    J_history = []\n",
        "\n",
        "    for i in range(num_iters):\n",
        "        theta = theta - (alpha / m) * (np.dot(X, theta) - y).dot(X)\n",
        "        J_history.append(computeCostMulti(X, y, theta))\n",
        "\n",
        "    return theta, J_history"
      ],
      "metadata": {
        "id": "NTic99Il4k9H"
      },
      "execution_count": 17,
      "outputs": []
    },
    {
      "cell_type": "code",
      "source": [
        "# Elegir algun valor para alpha (probar varias alternativas)\n",
        "alpha = 0.0003\n",
        "num_iters = 8000\n",
        "\n",
        "# inicializa theta y ejecuta el descenso por el gradiente\n",
        "theta = np.zeros(10)\n",
        "theta, J_history = gradientDescentMulti(X, y, theta, alpha, num_iters)\n",
        "\n",
        "# Grafica la convergencia del costo\n",
        "pyplot.plot(np.arange(len(J_history)), J_history, lw=2)\n",
        "pyplot.xlabel('Numero de iteraciones')\n",
        "pyplot.ylabel('Costo J')\n",
        "\n",
        "# Muestra los resultados del descenso por el gradiente\n",
        "print('theta calculado por el descenso por el gradiente: {:s}'.format(str(theta)))\n",
        "\n",
        "#  Estimar\n",
        "X_array = [1,-125.6,50.88,61,879 ,150 ,450,160,10.265,2]\n",
        "X_array[1:10] = (X_array[1:10] - mu) / sigma\n",
        "price = np.dot(X_array, theta)   # Se debe cambiar esto\n",
        "\n",
        "print('El valor predecido es (usando el descenso por el gradiente): {:.4f}'.format(price))"
      ],
      "metadata": {
        "colab": {
          "base_uri": "https://localhost:8080/",
          "height": 534
        },
        "id": "2sc2AmKF4qJQ",
        "outputId": "49af03c8-1d50-4571-ad1c-312c42fe4c5d"
      },
      "execution_count": 18,
      "outputs": [
        {
          "output_type": "stream",
          "name": "stdout",
          "text": [
            "theta calculado por el descenso por el gradiente: [188097.03630108  -7218.05556251  -8739.40174098   8024.59686427\n",
            "   2015.47310118   3007.65973338  -5848.16262024   3730.12179598\n",
            "  27280.82487855  84071.94272077]\n",
            "El valor predecido es (usando el descenso por el gradiente): 106500.2529\n"
          ]
        },
        {
          "output_type": "display_data",
          "data": {
            "text/plain": [
              "<Figure size 640x480 with 1 Axes>"
            ],
            "image/png": "[encoded data removed]"
          },
          "metadata": {}
        }
      ]
    }
  ]
}